{
 "cells": [
  {
   "cell_type": "markdown",
   "id": "38ed1a47",
   "metadata": {},
   "source": [
    "### **Installing and importing required dependencies**"
   ]
  },
  {
   "cell_type": "code",
   "execution_count": 1,
   "id": "01c9f2f3-2c1d-426f-af09-b460659f6ffe",
   "metadata": {},
   "outputs": [
    {
     "name": "stdout",
     "output_type": "stream",
     "text": [
      "Requirement already satisfied: boto3 in /home/ec2-user/anaconda3/envs/python3/lib/python3.10/site-packages (1.36.2)\n",
      "Requirement already satisfied: botocore<1.37.0,>=1.36.2 in /home/ec2-user/anaconda3/envs/python3/lib/python3.10/site-packages (from boto3) (1.36.2)\n",
      "Requirement already satisfied: jmespath<2.0.0,>=0.7.1 in /home/ec2-user/anaconda3/envs/python3/lib/python3.10/site-packages (from boto3) (1.0.1)\n",
      "Requirement already satisfied: s3transfer<0.12.0,>=0.11.0 in /home/ec2-user/anaconda3/envs/python3/lib/python3.10/site-packages (from boto3) (0.11.1)\n",
      "Requirement already satisfied: python-dateutil<3.0.0,>=2.1 in /home/ec2-user/anaconda3/envs/python3/lib/python3.10/site-packages (from botocore<1.37.0,>=1.36.2->boto3) (2.9.0.post0)\n",
      "Requirement already satisfied: urllib3!=2.2.0,<3,>=1.25.4 in /home/ec2-user/anaconda3/envs/python3/lib/python3.10/site-packages (from botocore<1.37.0,>=1.36.2->boto3) (2.3.0)\n",
      "Requirement already satisfied: six>=1.5 in /home/ec2-user/anaconda3/envs/python3/lib/python3.10/site-packages (from python-dateutil<3.0.0,>=2.1->botocore<1.37.0,>=1.36.2->boto3) (1.17.0)\n"
     ]
    }
   ],
   "source": [
    "!pip install boto3 sagemaker sciket-learn"
   ]
  },
  {
   "cell_type": "code",
   "execution_count": 1,
   "id": "ad01abdc-f053-4c9a-97f7-c2c9a534bf51",
   "metadata": {},
   "outputs": [
    {
     "name": "stderr",
     "output_type": "stream",
     "text": [
      "/home/ec2-user/anaconda3/envs/python3/lib/python3.10/site-packages/pydantic/_internal/_fields.py:192: UserWarning: Field name \"json\" in \"MonitoringDatasetFormat\" shadows an attribute in parent \"Base\"\n",
      "  warnings.warn(\n"
     ]
    },
    {
     "data": {
      "text/html": [
       "<pre style=\"white-space:pre;overflow-x:auto;line-height:normal;font-family:Menlo,'DejaVu Sans Mono',consolas,'Courier New',monospace\"><span style=\"color: #7fbfbf; text-decoration-color: #7fbfbf\">[01/27/25 11:10:36] </span><span style=\"color: #0069ff; text-decoration-color: #0069ff; font-weight: bold\">INFO    </span> Found credentials from IAM Role:                                   <a href=\"file:///home/ec2-user/anaconda3/envs/python3/lib/python3.10/site-packages/botocore/credentials.py\" target=\"_blank\"><span style=\"color: #7f7f7f; text-decoration-color: #7f7f7f\">credentials.py</span></a><span style=\"color: #7f7f7f; text-decoration-color: #7f7f7f\">:</span><a href=\"file:///home/ec2-user/anaconda3/envs/python3/lib/python3.10/site-packages/botocore/credentials.py#1075\" target=\"_blank\"><span style=\"color: #7f7f7f; text-decoration-color: #7f7f7f\">1075</span></a>\n",
       "<span style=\"color: #7fbfbf; text-decoration-color: #7fbfbf\">                    </span>         BaseNotebookInstanceEc2InstanceRole                                <span style=\"color: #7f7f7f; text-decoration-color: #7f7f7f\">                   </span>\n",
       "</pre>\n"
      ],
      "text/plain": [
       "\u001b[2;36m[01/27/25 11:10:36]\u001b[0m\u001b[2;36m \u001b[0m\u001b[1;38;2;0;105;255mINFO    \u001b[0m Found credentials from IAM Role:                                   \u001b]8;id=104650;file:///home/ec2-user/anaconda3/envs/python3/lib/python3.10/site-packages/botocore/credentials.py\u001b\\\u001b[2mcredentials.py\u001b[0m\u001b]8;;\u001b\\\u001b[2m:\u001b[0m\u001b]8;id=670220;file:///home/ec2-user/anaconda3/envs/python3/lib/python3.10/site-packages/botocore/credentials.py#1075\u001b\\\u001b[2m1075\u001b[0m\u001b]8;;\u001b\\\n",
       "\u001b[2;36m                    \u001b[0m         BaseNotebookInstanceEc2InstanceRole                                \u001b[2m                   \u001b[0m\n"
      ]
     },
     "metadata": {},
     "output_type": "display_data"
    },
    {
     "name": "stdout",
     "output_type": "stream",
     "text": [
      "sagemaker.config INFO - Not applying SDK defaults from location: /etc/xdg/sagemaker/config.yaml\n",
      "sagemaker.config INFO - Not applying SDK defaults from location: /home/ec2-user/.config/sagemaker/config.yaml\n"
     ]
    }
   ],
   "source": [
    "import sagemaker\n",
    "import boto3\n",
    "import pandas as pd\n",
    "import numpy as np\n",
    "import os\n",
    "import logging\n",
    "from datetime import datetime\n",
    "from sagemaker.session import TrainingInput\n",
    "from sagemaker import image_uris\n",
    "from sagemaker import hyperparameters"
   ]
  },
  {
   "cell_type": "markdown",
   "id": "55c7f14e",
   "metadata": {},
   "source": [
    "### **Initializing session resource and client for acceding AWS using boto3**\n",
    "\n",
    "boto3 provides you 3 of the impotent lyres to intact with the aes services\n",
    "so they are\n",
    "> clients\n",
    "\n",
    "> resources \n",
    "\n",
    "> sessions\n",
    "\n",
    "Lets start with understanding of **sessions**\n",
    "\n",
    "sessions are mainly used when we what to intact with a perticular user in a perticular region or with some other credentials. so basically by using session we can have a connections to the services with respect to the credentials , users , regions etc.. we just need to specify all the required information such as AWS Access Key Token , region etc.. so that we are ready to connect.\n",
    "\n",
    "[Sessions](https://boto3.amazonaws.com/v1/documentation/api/latest/guide/session.html)\n",
    "\n",
    "**Clients**\n",
    "Basically clients can used with every service provided by the aws, it is a low level interface where we can perform all the api calls such as tearing on the instances in the ec2, monitoring or knowing the status of resources , etc.., it is a thread safe and we required to provide all information such that we can make all the api calls. ex:- listing out buckets, sending messages through sqs, turning on or tuning off resources etc..\n",
    "\n",
    "[clients](https://boto3.amazonaws.com/v1/documentation/api/latest/guide/clients.html)\n",
    "\n",
    "**resources**\n",
    " we use resources when we what high level abstraction with the services such as manipulating s3 buckets, deleting or creating instances, manipulating dynamodb etc.. this is not thread sage so it is not used in the real tiime api calls only used when a session is declared and many of the services cant be accessed through resource. complex api operations. \n",
    "\n",
    " [Resources](https://boto3.amazonaws.com/v1/documentation/api/latest/guide/resources.html)\n",
    "\n"
   ]
  },
  {
   "cell_type": "code",
   "execution_count": 23,
   "id": "19244bb1-a99e-4ce0-9064-14c37191fbb0",
   "metadata": {},
   "outputs": [
    {
     "name": "stdout",
     "output_type": "stream",
     "text": [
      "us-east-1\n"
     ]
    }
   ],
   "source": [
    "bucket_name=\"textdemand\"\n",
    "my_region=boto3.session.Session().region_name #session is all about your personal account details in our case we are working in us east-1\n",
    "print(my_region)"
   ]
  },
  {
   "cell_type": "code",
   "execution_count": 8,
   "id": "a4443e4f-64b7-4bd1-bfba-10e8f7818a43",
   "metadata": {},
   "outputs": [
    {
     "name": "stdout",
     "output_type": "stream",
     "text": [
      "s\n"
     ]
    }
   ],
   "source": [
    "#creating bucket in s3 using resources\n",
    "s3=boto3.resource('s3')\n",
    "if my_region==\"us-east-1\":\n",
    "    s3.create_bucket(Bucket=bucket_name)\n",
    "    print('s')"
   ]
  },
  {
   "cell_type": "markdown",
   "id": "229ded39",
   "metadata": {},
   "source": [
    "### **Dataset loading**"
   ]
  },
  {
   "cell_type": "code",
   "execution_count": 3,
   "id": "788728cf-0322-47ad-8f9c-8461027561fb",
   "metadata": {},
   "outputs": [
    {
     "data": {
      "text/html": [
       "<div>\n",
       "<style scoped>\n",
       "    .dataframe tbody tr th:only-of-type {\n",
       "        vertical-align: middle;\n",
       "    }\n",
       "\n",
       "    .dataframe tbody tr th {\n",
       "        vertical-align: top;\n",
       "    }\n",
       "\n",
       "    .dataframe thead th {\n",
       "        text-align: right;\n",
       "    }\n",
       "</style>\n",
       "<table border=\"1\" class=\"dataframe\">\n",
       "  <thead>\n",
       "    <tr style=\"text-align: right;\">\n",
       "      <th></th>\n",
       "      <th>product</th>\n",
       "      <th>year</th>\n",
       "      <th>expiri duretion in years</th>\n",
       "      <th>month</th>\n",
       "      <th>no. of new products bought</th>\n",
       "      <th>no of products left for selling</th>\n",
       "      <th>no. of products sold</th>\n",
       "      <th>prodects left</th>\n",
       "      <th>no of products to be bought</th>\n",
       "      <th>demand %</th>\n",
       "    </tr>\n",
       "  </thead>\n",
       "  <tbody>\n",
       "    <tr>\n",
       "      <th>0</th>\n",
       "      <td>colgate</td>\n",
       "      <td>2019</td>\n",
       "      <td>2.0</td>\n",
       "      <td>1</td>\n",
       "      <td>60</td>\n",
       "      <td>60</td>\n",
       "      <td>46</td>\n",
       "      <td>0</td>\n",
       "      <td>46.0</td>\n",
       "      <td>76.666667</td>\n",
       "    </tr>\n",
       "    <tr>\n",
       "      <th>1</th>\n",
       "      <td>colgate</td>\n",
       "      <td>2019</td>\n",
       "      <td>2.0</td>\n",
       "      <td>2</td>\n",
       "      <td>32</td>\n",
       "      <td>46</td>\n",
       "      <td>38</td>\n",
       "      <td>14</td>\n",
       "      <td>24.0</td>\n",
       "      <td>118.750000</td>\n",
       "    </tr>\n",
       "    <tr>\n",
       "      <th>2</th>\n",
       "      <td>colgate</td>\n",
       "      <td>2019</td>\n",
       "      <td>2.0</td>\n",
       "      <td>3</td>\n",
       "      <td>40</td>\n",
       "      <td>62</td>\n",
       "      <td>47</td>\n",
       "      <td>22</td>\n",
       "      <td>25.0</td>\n",
       "      <td>117.500000</td>\n",
       "    </tr>\n",
       "    <tr>\n",
       "      <th>3</th>\n",
       "      <td>colgate</td>\n",
       "      <td>2019</td>\n",
       "      <td>2.0</td>\n",
       "      <td>4</td>\n",
       "      <td>36</td>\n",
       "      <td>51</td>\n",
       "      <td>40</td>\n",
       "      <td>15</td>\n",
       "      <td>25.0</td>\n",
       "      <td>111.111111</td>\n",
       "    </tr>\n",
       "    <tr>\n",
       "      <th>4</th>\n",
       "      <td>colgate</td>\n",
       "      <td>2019</td>\n",
       "      <td>2.0</td>\n",
       "      <td>5</td>\n",
       "      <td>56</td>\n",
       "      <td>67</td>\n",
       "      <td>58</td>\n",
       "      <td>11</td>\n",
       "      <td>47.0</td>\n",
       "      <td>103.571429</td>\n",
       "    </tr>\n",
       "  </tbody>\n",
       "</table>\n",
       "</div>"
      ],
      "text/plain": [
       "   product  year  expiri duretion in years  month  \\\n",
       "0  colgate  2019                       2.0      1   \n",
       "1  colgate  2019                       2.0      2   \n",
       "2  colgate  2019                       2.0      3   \n",
       "3  colgate  2019                       2.0      4   \n",
       "4  colgate  2019                       2.0      5   \n",
       "\n",
       "   no. of new products bought    no of products left for selling  \\\n",
       "0                            60                               60   \n",
       "1                            32                               46   \n",
       "2                            40                               62   \n",
       "3                            36                               51   \n",
       "4                            56                               67   \n",
       "\n",
       "   no. of products sold  prodects left  no of products to be bought  \\\n",
       "0                    46              0                         46.0   \n",
       "1                    38             14                         24.0   \n",
       "2                    47             22                         25.0   \n",
       "3                    40             15                         25.0   \n",
       "4                    58             11                         47.0   \n",
       "\n",
       "     demand %  \n",
       "0   76.666667  \n",
       "1  118.750000  \n",
       "2  117.500000  \n",
       "3  111.111111  \n",
       "4  103.571429  "
      ]
     },
     "execution_count": 3,
     "metadata": {},
     "output_type": "execute_result"
    }
   ],
   "source": [
    "data=pd.read_csv(\"prod_.csv\")\n",
    "data.head()"
   ]
  },
  {
   "cell_type": "markdown",
   "id": "95767832",
   "metadata": {},
   "source": [
    "Splitting the dataset and formatting to csv"
   ]
  },
  {
   "cell_type": "code",
   "execution_count": 5,
   "id": "efbad6cf-1150-4cd2-bdd5-3a8684706adc",
   "metadata": {},
   "outputs": [],
   "source": [
    "from sklearn.model_selection import train_test_split\n",
    "train_df,test_df= train_test_split(data, test_size = 0.175, random_state=0)"
   ]
  },
  {
   "cell_type": "code",
   "execution_count": 6,
   "id": "8426dc09-af44-4f8a-bb57-63532c5ee9df",
   "metadata": {},
   "outputs": [],
   "source": [
    "train_df.to_csv('train.csv', index=False, header=None)\n",
    "test_df.to_csv('test.csv',index=False,header=None)"
   ]
  },
  {
   "cell_type": "markdown",
   "id": "623efefd",
   "metadata": {},
   "source": [
    "pushing data into s3 bucket"
   ]
  },
  {
   "cell_type": "code",
   "execution_count": 11,
   "id": "14391e96-2156-49ee-97d0-def51257ce7a",
   "metadata": {},
   "outputs": [
    {
     "name": "stdout",
     "output_type": "stream",
     "text": [
      "upload: ./prod_.csv to s3://textdemand/prodDemand/data/prod_.csv  \n"
     ]
    }
   ],
   "source": [
    "!aws s3 cp prod_.csv s3://textdemand/prodDemand/data/"
   ]
  },
  {
   "cell_type": "code",
   "execution_count": 17,
   "id": "82e75885-b4d6-4d01-9e14-add35fec991c",
   "metadata": {},
   "outputs": [
    {
     "name": "stdout",
     "output_type": "stream",
     "text": [
      "upload: ./train.csv to s3://textdemand/prodDemand/data/train.csv\n",
      "upload: ./test.csv to s3://textdemand/prodDemand/data/test.csv \n"
     ]
    }
   ],
   "source": [
    "!aws s3 cp train.csv s3://textdemand/prodDemand/data/\n",
    "!aws s3 cp test.csv s3://textdemand/prodDemand/data/"
   ]
  },
  {
   "cell_type": "markdown",
   "id": "90a83a60",
   "metadata": {},
   "source": [
    "Loading execution role if you are working in local note book you need to declare it in 'env and load it\n",
    "this helps in executing tasks into sagemaker"
   ]
  },
  {
   "cell_type": "code",
   "execution_count": 8,
   "id": "21942a4a-8ec3-4195-a0ba-1baf004f72c2",
   "metadata": {},
   "outputs": [],
   "source": [
    "role_arn = sagemaker.get_execution_role()"
   ]
  },
  {
   "cell_type": "markdown",
   "id": "986ecc5c",
   "metadata": {},
   "source": [
    "### preprocessing dataset"
   ]
  },
  {
   "cell_type": "code",
   "execution_count": 9,
   "id": "bef118a0-24d4-4115-a51a-a03e1bbf71b9",
   "metadata": {},
   "outputs": [],
   "source": [
    "arr=data['product'].unique()"
   ]
  },
  {
   "cell_type": "code",
   "execution_count": 10,
   "id": "12250b5b-18b4-4795-bcb5-87a1bfec4a7e",
   "metadata": {},
   "outputs": [],
   "source": [
    "import json\n",
    "transformations={arr[i]:i+1 for i in range(len(arr))}\n",
    "with open('transformations.json', 'w') as f:\n",
    "    json.dump(transformations, f)"
   ]
  },
  {
   "cell_type": "code",
   "execution_count": 43,
   "id": "7df041bf-915a-4c2f-a919-e71e93cb9d0d",
   "metadata": {},
   "outputs": [
    {
     "name": "stdout",
     "output_type": "stream",
     "text": [
      "upload: ./transformations.json to s3://textdemand/prodDemand/data/transformations.json\n"
     ]
    }
   ],
   "source": [
    "!aws s3 cp transformations.json s3://textdemand/prodDemand/data/"
   ]
  },
  {
   "cell_type": "code",
   "execution_count": 11,
   "id": "2bc0da03-0d66-4b3a-8a32-de784725fa05",
   "metadata": {},
   "outputs": [],
   "source": [
    "data['product']=data['product'].map(transformations)"
   ]
  },
  {
   "cell_type": "code",
   "execution_count": 16,
   "id": "944791d1-2f5d-475a-84ae-d11a73f1c1a7",
   "metadata": {},
   "outputs": [],
   "source": [
    "#preparing cleaned data set\n",
    "\n",
    "data_clean={\n",
    "            \"sold\":data[\"no. of products sold\"], #This is a output variable , this is necessary while trining the model using sagemaker\n",
    "            \"products\":data['product'],\n",
    "            \"year\":data[\"year\"],\n",
    "            \"month\":data[\"month\"]\n",
    "           }"
   ]
  },
  {
   "cell_type": "code",
   "execution_count": 17,
   "id": "792a41dd-5cec-4415-9583-73a97795562c",
   "metadata": {},
   "outputs": [],
   "source": [
    "data_clean=pd.DataFrame(data_clean)"
   ]
  },
  {
   "cell_type": "code",
   "execution_count": 18,
   "id": "4aafb5dd-8355-423c-a18a-eca91d8faec9",
   "metadata": {},
   "outputs": [
    {
     "name": "stdout",
     "output_type": "stream",
     "text": [
      "upload: ./cleaned_data.csv to s3://textdemand/prodDemand/data/cleaned_data.csv\n"
     ]
    }
   ],
   "source": [
    "data_clean.to_csv(\"cleaned_data.csv\")\n",
    "!aws s3 cp cleaned_data.csv s3://textdemand/prodDemand/data/"
   ]
  },
  {
   "cell_type": "code",
   "execution_count": 19,
   "id": "0ee490ba-70e7-495d-a2c6-65f0763c1a77",
   "metadata": {},
   "outputs": [],
   "source": [
    "from sklearn.model_selection import train_test_split\n",
    "train_df,test_df= train_test_split(data_clean, test_size = 0.175, random_state=0)"
   ]
  },
  {
   "cell_type": "code",
   "execution_count": 20,
   "id": "3f60b2e8-3607-439a-b70a-3f9eb1d17ff5",
   "metadata": {},
   "outputs": [],
   "source": [
    "train_df.to_csv('train_clean.csv', index=False, header=None)\n",
    "test_df.to_csv('test_clean.csv',index=False,header=None)"
   ]
  },
  {
   "cell_type": "code",
   "execution_count": 21,
   "id": "e15e94f3-8745-4cbf-944d-8b5e9ce614b2",
   "metadata": {},
   "outputs": [
    {
     "name": "stdout",
     "output_type": "stream",
     "text": [
      "upload: ./train_clean.csv to s3://textdemand/prodDemand/data/train_clean.csv\n",
      "upload: ./test_clean.csv to s3://textdemand/prodDemand/data/test_clean.csv\n"
     ]
    }
   ],
   "source": [
    "!aws s3 cp train_clean.csv s3://textdemand/prodDemand/data/\n",
    "!aws s3 cp test_clean.csv s3://textdemand/prodDemand/data/"
   ]
  },
  {
   "cell_type": "code",
   "execution_count": 25,
   "id": "f78a4b0d-756d-4130-8ccc-0551110f0169",
   "metadata": {},
   "outputs": [],
   "source": [
    "bucket_name=\"textdemand\""
   ]
  },
  {
   "cell_type": "code",
   "execution_count": 28,
   "id": "7b1982da-b124-4811-86bb-4212f9445b3b",
   "metadata": {},
   "outputs": [
    {
     "name": "stdout",
     "output_type": "stream",
     "text": [
      "2025-01-27 11:13:17       3631 prodDemand/data/cleaned_data.csv\n",
      "2025-01-27 07:24:26      10506 prodDemand/data/prod_.csv\n",
      "2025-01-27 07:53:41       1451 prodDemand/data/test.csv\n",
      "2025-01-27 11:13:41        494 prodDemand/data/test_clean.csv\n",
      "2025-01-27 07:53:40       6726 prodDemand/data/train.csv\n",
      "2025-01-27 11:13:40       2325 prodDemand/data/train_clean.csv\n",
      "2025-01-27 07:52:08        113 prodDemand/data/transformations.json\n"
     ]
    }
   ],
   "source": [
    "!aws s3 ls s3://textdemand/prodDemand/ --recursive"
   ]
  },
  {
   "cell_type": "code",
   "execution_count": 29,
   "id": "f5ebeee3-1e20-4f9f-ad37-81631879c85f",
   "metadata": {},
   "outputs": [
    {
     "data": {
      "text/html": [
       "<div>\n",
       "<style scoped>\n",
       "    .dataframe tbody tr th:only-of-type {\n",
       "        vertical-align: middle;\n",
       "    }\n",
       "\n",
       "    .dataframe tbody tr th {\n",
       "        vertical-align: top;\n",
       "    }\n",
       "\n",
       "    .dataframe thead th {\n",
       "        text-align: right;\n",
       "    }\n",
       "</style>\n",
       "<table border=\"1\" class=\"dataframe\">\n",
       "  <thead>\n",
       "    <tr style=\"text-align: right;\">\n",
       "      <th></th>\n",
       "      <th>sold</th>\n",
       "      <th>products</th>\n",
       "      <th>year</th>\n",
       "      <th>month</th>\n",
       "    </tr>\n",
       "  </thead>\n",
       "  <tbody>\n",
       "    <tr>\n",
       "      <th>97</th>\n",
       "      <td>300</td>\n",
       "      <td>3</td>\n",
       "      <td>2020</td>\n",
       "      <td>2</td>\n",
       "    </tr>\n",
       "    <tr>\n",
       "      <th>143</th>\n",
       "      <td>150</td>\n",
       "      <td>6</td>\n",
       "      <td>2020</td>\n",
       "      <td>12</td>\n",
       "    </tr>\n",
       "    <tr>\n",
       "      <th>152</th>\n",
       "      <td>112</td>\n",
       "      <td>1</td>\n",
       "      <td>2021</td>\n",
       "      <td>9</td>\n",
       "    </tr>\n",
       "    <tr>\n",
       "      <th>106</th>\n",
       "      <td>350</td>\n",
       "      <td>3</td>\n",
       "      <td>2020</td>\n",
       "      <td>11</td>\n",
       "    </tr>\n",
       "    <tr>\n",
       "      <th>201</th>\n",
       "      <td>117</td>\n",
       "      <td>5</td>\n",
       "      <td>2021</td>\n",
       "      <td>10</td>\n",
       "    </tr>\n",
       "    <tr>\n",
       "      <th>...</th>\n",
       "      <td>...</td>\n",
       "      <td>...</td>\n",
       "      <td>...</td>\n",
       "      <td>...</td>\n",
       "    </tr>\n",
       "    <tr>\n",
       "      <th>67</th>\n",
       "      <td>106</td>\n",
       "      <td>6</td>\n",
       "      <td>2019</td>\n",
       "      <td>8</td>\n",
       "    </tr>\n",
       "    <tr>\n",
       "      <th>192</th>\n",
       "      <td>95</td>\n",
       "      <td>5</td>\n",
       "      <td>2021</td>\n",
       "      <td>1</td>\n",
       "    </tr>\n",
       "    <tr>\n",
       "      <th>117</th>\n",
       "      <td>55</td>\n",
       "      <td>4</td>\n",
       "      <td>2020</td>\n",
       "      <td>10</td>\n",
       "    </tr>\n",
       "    <tr>\n",
       "      <th>47</th>\n",
       "      <td>58</td>\n",
       "      <td>4</td>\n",
       "      <td>2019</td>\n",
       "      <td>12</td>\n",
       "    </tr>\n",
       "    <tr>\n",
       "      <th>172</th>\n",
       "      <td>398</td>\n",
       "      <td>3</td>\n",
       "      <td>2021</td>\n",
       "      <td>5</td>\n",
       "    </tr>\n",
       "  </tbody>\n",
       "</table>\n",
       "<p>184 rows × 4 columns</p>\n",
       "</div>"
      ],
      "text/plain": [
       "     sold  products  year  month\n",
       "97    300         3  2020      2\n",
       "143   150         6  2020     12\n",
       "152   112         1  2021      9\n",
       "106   350         3  2020     11\n",
       "201   117         5  2021     10\n",
       "..    ...       ...   ...    ...\n",
       "67    106         6  2019      8\n",
       "192    95         5  2021      1\n",
       "117    55         4  2020     10\n",
       "47     58         4  2019     12\n",
       "172   398         3  2021      5\n",
       "\n",
       "[184 rows x 4 columns]"
      ]
     },
     "execution_count": 29,
     "metadata": {},
     "output_type": "execute_result"
    }
   ],
   "source": [
    "train_df"
   ]
  },
  {
   "cell_type": "code",
   "execution_count": 30,
   "id": "2f5a7aa9-c62f-47f4-a197-65d8473ead5a",
   "metadata": {},
   "outputs": [],
   "source": [
    "training_data='train_clean.csv'\n",
    "testing_data='test_clean.csv'\n",
    "proj_name=\"prodDemand\"\n",
    "data_file=\"data\"\n",
    "training_path=f\"s3://{bucket_name}/{proj_name}/{data_file}/{training_data}\"\n",
    "testing_path=f\"s3://{bucket_name}/{proj_name}/{data_file}/{testing_data}\""
   ]
  },
  {
   "cell_type": "code",
   "execution_count": 31,
   "id": "29e079fa-a6ff-4841-9735-a7b09a1bc20b",
   "metadata": {},
   "outputs": [
    {
     "name": "stdout",
     "output_type": "stream",
     "text": [
      "s3://textdemand/prodDemand/data/train_clean.csv\n"
     ]
    }
   ],
   "source": [
    "print(training_path)"
   ]
  },
  {
   "cell_type": "code",
   "execution_count": 32,
   "id": "8061dad3-7038-4ac6-83fa-c1ad063e51f9",
   "metadata": {},
   "outputs": [],
   "source": [
    "train_in=TrainingInput(training_path, content_type=\"csv\")\n",
    "test_in=TrainingInput(testing_path, content_type=\"csv\")"
   ]
  },
  {
   "cell_type": "code",
   "execution_count": 33,
   "id": "59fb37f7-1563-4c72-9e23-627137e49c6b",
   "metadata": {},
   "outputs": [
    {
     "name": "stdout",
     "output_type": "stream",
     "text": [
      "<sagemaker.inputs.TrainingInput object at 0x7f0f495cb130>\n"
     ]
    }
   ],
   "source": [
    "print(test_in)"
   ]
  },
  {
   "cell_type": "code",
   "execution_count": 34,
   "id": "67a19788-de8c-47c9-96fb-a3854be209cc",
   "metadata": {},
   "outputs": [
    {
     "name": "stdout",
     "output_type": "stream",
     "text": [
      "s3://textdemand/prodDemand/model\n"
     ]
    }
   ],
   "source": [
    "model_op = \"s3://{}/{}/{}\".format(bucket_name, proj_name, \"model\")\n",
    "print(model_op)"
   ]
  },
  {
   "cell_type": "code",
   "execution_count": 48,
   "id": "d78937a4-994b-4a29-a4e3-f0f3e2cc21b6",
   "metadata": {},
   "outputs": [
    {
     "data": {
      "text/html": [
       "<pre style=\"white-space:pre;overflow-x:auto;line-height:normal;font-family:Menlo,'DejaVu Sans Mono',consolas,'Courier New',monospace\"><span style=\"color: #7fbfbf; text-decoration-color: #7fbfbf\">[01/27/25 11:37:29] </span><span style=\"color: #0069ff; text-decoration-color: #0069ff; font-weight: bold\">INFO    </span> Ignoring unnecessary instance type: <span style=\"color: #e100e1; text-decoration-color: #e100e1; font-style: italic\">None</span>.                            <a href=\"file:///home/ec2-user/anaconda3/envs/python3/lib/python3.10/site-packages/sagemaker/image_uris.py\" target=\"_blank\"><span style=\"color: #7f7f7f; text-decoration-color: #7f7f7f\">image_uris.py</span></a><span style=\"color: #7f7f7f; text-decoration-color: #7f7f7f\">:</span><a href=\"file:///home/ec2-user/anaconda3/envs/python3/lib/python3.10/site-packages/sagemaker/image_uris.py#528\" target=\"_blank\"><span style=\"color: #7f7f7f; text-decoration-color: #7f7f7f\">528</span></a>\n",
       "</pre>\n"
      ],
      "text/plain": [
       "\u001b[2;36m[01/27/25 11:37:29]\u001b[0m\u001b[2;36m \u001b[0m\u001b[1;38;2;0;105;255mINFO    \u001b[0m Ignoring unnecessary instance type: \u001b[3;38;2;225;0;225mNone\u001b[0m.                            \u001b]8;id=296687;file:///home/ec2-user/anaconda3/envs/python3/lib/python3.10/site-packages/sagemaker/image_uris.py\u001b\\\u001b[2mimage_uris.py\u001b[0m\u001b]8;;\u001b\\\u001b[2m:\u001b[0m\u001b]8;id=112294;file:///home/ec2-user/anaconda3/envs/python3/lib/python3.10/site-packages/sagemaker/image_uris.py#528\u001b\\\u001b[2m528\u001b[0m\u001b]8;;\u001b\\\n"
      ]
     },
     "metadata": {},
     "output_type": "display_data"
    },
    {
     "name": "stdout",
     "output_type": "stream",
     "text": [
      "811284229777.dkr.ecr.us-east-1.amazonaws.com/xgboost:latest\n"
     ]
    }
   ],
   "source": [
    "model_img = sagemaker.image_uris.retrieve(\"xgboost\", my_region, \"latest\")\n",
    "print(model_img)"
   ]
  },
  {
   "cell_type": "code",
   "execution_count": null,
   "id": "2a7f4365-4223-4f3f-8390-647e8d4b2b37",
   "metadata": {},
   "outputs": [],
   "source": [
    "from sagemaker.sklearn.estimator import Sklearn"
   ]
  },
  {
   "cell_type": "code",
   "execution_count": 49,
   "id": "93fca280-f77f-498f-9a13-a70d7cac382b",
   "metadata": {},
   "outputs": [],
   "source": [
    "training_job=\"demandpred\"\n",
    "xgb_model = sagemaker.estimator.Estimator(\n",
    "    image_uri=model_img,\n",
    "    role=role_arn,\n",
    "    base_job_name=training_job,\n",
    "    instance_count=1,\n",
    "    instance_type=\"ml.m4.xlarge\",\n",
    "    output_path=model_op,\n",
    "    sagemaker_session=sagemaker.Session(),\n",
    "    volume_size=5,\n",
    ")"
   ]
  },
  {
   "cell_type": "code",
   "execution_count": 50,
   "id": "e7708e36-6937-4c19-881a-04149324a805",
   "metadata": {},
   "outputs": [],
   "source": [
    "xgb_model.set_hyperparameters(\n",
    "    n_estimators=2, max_depth=2, learning_rate=1,num_round=10,objective=\"reg:linear\"\n",
    ")"
   ]
  },
  {
   "cell_type": "code",
   "execution_count": 51,
   "id": "0ae0c36a-e322-4297-93f6-b34d98c832e0",
   "metadata": {},
   "outputs": [
    {
     "name": "stdout",
     "output_type": "stream",
     "text": [
      "demandpred2025-01-27-11-37-39\n"
     ]
    }
   ],
   "source": [
    "job_name = training_job + datetime.today().strftime(\"%Y-%m-%d-%H-%M-%S\")\n",
    "print(job_name)"
   ]
  },
  {
   "cell_type": "code",
   "execution_count": 52,
   "id": "0394e66a-ab01-4e35-8546-275e143f5d61",
   "metadata": {},
   "outputs": [
    {
     "data": {
      "text/html": [
       "<pre style=\"white-space:pre;overflow-x:auto;line-height:normal;font-family:Menlo,'DejaVu Sans Mono',consolas,'Courier New',monospace\"><span style=\"color: #7fbfbf; text-decoration-color: #7fbfbf\">[01/27/25 11:37:42] </span><span style=\"color: #0069ff; text-decoration-color: #0069ff; font-weight: bold\">INFO    </span> SageMaker Python SDK will collect telemetry to help us better  <a href=\"file:///home/ec2-user/anaconda3/envs/python3/lib/python3.10/site-packages/sagemaker/telemetry/telemetry_logging.py\" target=\"_blank\"><span style=\"color: #7f7f7f; text-decoration-color: #7f7f7f\">telemetry_logging.py</span></a><span style=\"color: #7f7f7f; text-decoration-color: #7f7f7f\">:</span><a href=\"file:///home/ec2-user/anaconda3/envs/python3/lib/python3.10/site-packages/sagemaker/telemetry/telemetry_logging.py#90\" target=\"_blank\"><span style=\"color: #7f7f7f; text-decoration-color: #7f7f7f\">90</span></a>\n",
       "<span style=\"color: #7fbfbf; text-decoration-color: #7fbfbf\">                    </span>         understand our user's needs, diagnose issues, and deliver      <span style=\"color: #7f7f7f; text-decoration-color: #7f7f7f\">                       </span>\n",
       "<span style=\"color: #7fbfbf; text-decoration-color: #7fbfbf\">                    </span>         additional features.                                           <span style=\"color: #7f7f7f; text-decoration-color: #7f7f7f\">                       </span>\n",
       "<span style=\"color: #7fbfbf; text-decoration-color: #7fbfbf\">                    </span>         To opt out of telemetry, please disable via TelemetryOptOut    <span style=\"color: #7f7f7f; text-decoration-color: #7f7f7f\">                       </span>\n",
       "<span style=\"color: #7fbfbf; text-decoration-color: #7fbfbf\">                    </span>         parameter in SDK defaults config. For more information, refer  <span style=\"color: #7f7f7f; text-decoration-color: #7f7f7f\">                       </span>\n",
       "<span style=\"color: #7fbfbf; text-decoration-color: #7fbfbf\">                    </span>         to                                                             <span style=\"color: #7f7f7f; text-decoration-color: #7f7f7f\">                       </span>\n",
       "<span style=\"color: #7fbfbf; text-decoration-color: #7fbfbf\">                    </span>         <span style=\"color: #0069ff; text-decoration-color: #0069ff; text-decoration: underline\">https://sagemaker.readthedocs.io/en/stable/overview.html#confi</span> <span style=\"color: #7f7f7f; text-decoration-color: #7f7f7f\">                       </span>\n",
       "<span style=\"color: #7fbfbf; text-decoration-color: #7fbfbf\">                    </span>         <span style=\"color: #0069ff; text-decoration-color: #0069ff; text-decoration: underline\">guring-and-using-defaults-with-the-sagemaker-python-sdk.</span>       <span style=\"color: #7f7f7f; text-decoration-color: #7f7f7f\">                       </span>\n",
       "</pre>\n"
      ],
      "text/plain": [
       "\u001b[2;36m[01/27/25 11:37:42]\u001b[0m\u001b[2;36m \u001b[0m\u001b[1;38;2;0;105;255mINFO    \u001b[0m SageMaker Python SDK will collect telemetry to help us better  \u001b]8;id=618650;file:///home/ec2-user/anaconda3/envs/python3/lib/python3.10/site-packages/sagemaker/telemetry/telemetry_logging.py\u001b\\\u001b[2mtelemetry_logging.py\u001b[0m\u001b]8;;\u001b\\\u001b[2m:\u001b[0m\u001b]8;id=970120;file:///home/ec2-user/anaconda3/envs/python3/lib/python3.10/site-packages/sagemaker/telemetry/telemetry_logging.py#90\u001b\\\u001b[2m90\u001b[0m\u001b]8;;\u001b\\\n",
       "\u001b[2;36m                    \u001b[0m         understand our user's needs, diagnose issues, and deliver      \u001b[2m                       \u001b[0m\n",
       "\u001b[2;36m                    \u001b[0m         additional features.                                           \u001b[2m                       \u001b[0m\n",
       "\u001b[2;36m                    \u001b[0m         To opt out of telemetry, please disable via TelemetryOptOut    \u001b[2m                       \u001b[0m\n",
       "\u001b[2;36m                    \u001b[0m         parameter in SDK defaults config. For more information, refer  \u001b[2m                       \u001b[0m\n",
       "\u001b[2;36m                    \u001b[0m         to                                                             \u001b[2m                       \u001b[0m\n",
       "\u001b[2;36m                    \u001b[0m         \u001b[4;38;2;0;105;255mhttps://sagemaker.readthedocs.io/en/stable/overview.html#confi\u001b[0m \u001b[2m                       \u001b[0m\n",
       "\u001b[2;36m                    \u001b[0m         \u001b[4;38;2;0;105;255mguring-and-using-defaults-with-the-sagemaker-python-sdk.\u001b[0m       \u001b[2m                       \u001b[0m\n"
      ]
     },
     "metadata": {},
     "output_type": "display_data"
    },
    {
     "data": {
      "text/html": [
       "<pre style=\"white-space:pre;overflow-x:auto;line-height:normal;font-family:Menlo,'DejaVu Sans Mono',consolas,'Courier New',monospace\"><span style=\"color: #7fbfbf; text-decoration-color: #7fbfbf\">                    </span><span style=\"color: #0069ff; text-decoration-color: #0069ff; font-weight: bold\">INFO    </span> Creating training-job with name: demandpred2025-01-27-11-37-39         <a href=\"file:///home/ec2-user/anaconda3/envs/python3/lib/python3.10/site-packages/sagemaker/session.py\" target=\"_blank\"><span style=\"color: #7f7f7f; text-decoration-color: #7f7f7f\">session.py</span></a><span style=\"color: #7f7f7f; text-decoration-color: #7f7f7f\">:</span><a href=\"file:///home/ec2-user/anaconda3/envs/python3/lib/python3.10/site-packages/sagemaker/session.py#1042\" target=\"_blank\"><span style=\"color: #7f7f7f; text-decoration-color: #7f7f7f\">1042</span></a>\n",
       "</pre>\n"
      ],
      "text/plain": [
       "\u001b[2;36m                   \u001b[0m\u001b[2;36m \u001b[0m\u001b[1;38;2;0;105;255mINFO    \u001b[0m Creating training-job with name: demandpred2025-01-27-11-37-39         \u001b]8;id=460201;file:///home/ec2-user/anaconda3/envs/python3/lib/python3.10/site-packages/sagemaker/session.py\u001b\\\u001b[2msession.py\u001b[0m\u001b]8;;\u001b\\\u001b[2m:\u001b[0m\u001b]8;id=223583;file:///home/ec2-user/anaconda3/envs/python3/lib/python3.10/site-packages/sagemaker/session.py#1042\u001b\\\u001b[2m1042\u001b[0m\u001b]8;;\u001b\\\n"
      ]
     },
     "metadata": {},
     "output_type": "display_data"
    },
    {
     "name": "stdout",
     "output_type": "stream",
     "text": [
      "2025-01-27 11:37:47 Starting - Starting the training job......\n",
      ".....01-27 11:38:30 Starting - Preparing the instances for training.\n",
      "..25-01-27 11:39:30 Downloading - Downloading input data.\n",
      ".....01-27 11:40:00 Downloading - Downloading the training image.\n",
      "2025-01-27 11:41:16 Training - Training image download completed. Training in progress.\n",
      "2025-01-27 11:41:16 Uploading - Uploading generated training model\u001b[34mArguments: train\u001b[0m\n",
      "\u001b[34m[2025-01-27:11:41:11:INFO] Running standalone xgboost training.\u001b[0m\n",
      "\u001b[34m[2025-01-27:11:41:11:INFO] File size need to be processed in the node: 0.0mb. Available memory size in the node: 8455.32mb\u001b[0m\n",
      "\u001b[34m[2025-01-27:11:41:11:INFO] Determined delimiter of CSV input is ','\u001b[0m\n",
      "\u001b[34m[11:41:11] S3DistributionType set as FullyReplicated\u001b[0m\n",
      "\u001b[34m[11:41:11] 184x3 matrix with 552 entries loaded from /opt/ml/input/data/train?format=csv&label_column=0&delimiter=,\u001b[0m\n",
      "\u001b[34m[2025-01-27:11:41:11:INFO] Determined delimiter of CSV input is ','\u001b[0m\n",
      "\u001b[34m[11:41:11] S3DistributionType set as FullyReplicated\u001b[0m\n",
      "\u001b[34m[11:41:11] 40x3 matrix with 120 entries loaded from /opt/ml/input/data/validation?format=csv&label_column=0&delimiter=,\u001b[0m\n",
      "\u001b[34m[11:41:11] src/tree/updater_prune.cc:74: tree pruning end, 1 roots, 6 extra nodes, 0 pruned nodes, max_depth=2\u001b[0m\n",
      "\u001b[34m[0]#011train-rmse:122.739#011validation-rmse:98.754\u001b[0m\n",
      "\u001b[34m[11:41:11] src/tree/updater_prune.cc:74: tree pruning end, 1 roots, 6 extra nodes, 0 pruned nodes, max_depth=2\u001b[0m\n",
      "\u001b[34m[1]#011train-rmse:91.5665#011validation-rmse:72.3815\u001b[0m\n",
      "\u001b[34m[11:41:11] src/tree/updater_prune.cc:74: tree pruning end, 1 roots, 6 extra nodes, 0 pruned nodes, max_depth=2\u001b[0m\n",
      "\u001b[34m[2]#011train-rmse:70.9115#011validation-rmse:54.4975\u001b[0m\n",
      "\u001b[34m[11:41:11] src/tree/updater_prune.cc:74: tree pruning end, 1 roots, 6 extra nodes, 0 pruned nodes, max_depth=2\u001b[0m\n",
      "\u001b[34m[3]#011train-rmse:57.8324#011validation-rmse:42.8664\u001b[0m\n",
      "\u001b[34m[11:41:11] src/tree/updater_prune.cc:74: tree pruning end, 1 roots, 6 extra nodes, 0 pruned nodes, max_depth=2\u001b[0m\n",
      "\u001b[34m[4]#011train-rmse:50.9148#011validation-rmse:35.4527\u001b[0m\n",
      "\u001b[34m[11:41:11] src/tree/updater_prune.cc:74: tree pruning end, 1 roots, 6 extra nodes, 0 pruned nodes, max_depth=2\u001b[0m\n",
      "\u001b[34m[5]#011train-rmse:44.7218#011validation-rmse:29.8134\u001b[0m\n",
      "\u001b[34m[11:41:11] src/tree/updater_prune.cc:74: tree pruning end, 1 roots, 6 extra nodes, 0 pruned nodes, max_depth=2\u001b[0m\n",
      "\u001b[34m[6]#011train-rmse:41.558#011validation-rmse:28.4207\u001b[0m\n",
      "\u001b[34m[11:41:11] src/tree/updater_prune.cc:74: tree pruning end, 1 roots, 6 extra nodes, 0 pruned nodes, max_depth=2\u001b[0m\n",
      "\u001b[34m[7]#011train-rmse:39.5998#011validation-rmse:26.0002\u001b[0m\n",
      "\u001b[34m[11:41:11] src/tree/updater_prune.cc:74: tree pruning end, 1 roots, 6 extra nodes, 0 pruned nodes, max_depth=2\u001b[0m\n",
      "\u001b[34m[8]#011train-rmse:38.0862#011validation-rmse:24.8563\u001b[0m\n",
      "\u001b[34m[11:41:11] src/tree/updater_prune.cc:74: tree pruning end, 1 roots, 6 extra nodes, 0 pruned nodes, max_depth=2\u001b[0m\n",
      "\u001b[34m[9]#011train-rmse:34.7047#011validation-rmse:21.6241\u001b[0m\n",
      "\n",
      "2025-01-27 11:41:29 Completed - Training job completed\n",
      "Training seconds: 120\n",
      "Billable seconds: 120\n"
     ]
    }
   ],
   "source": [
    "xgb_model.fit({\"train\": train_in, \"validation\": test_in}, wait=True, job_name=job_name)"
   ]
  },
  {
   "cell_type": "code",
   "execution_count": 54,
   "id": "b31263c8-c00e-4e6a-8d0a-e0eaa123fc6a",
   "metadata": {},
   "outputs": [
    {
     "name": "stdout",
     "output_type": "stream",
     "text": [
      "                           PRE demandpred2025-01-27-11-23-41/\n",
      "                           PRE demandpred2025-01-27-11-33-14/\n",
      "                           PRE demandpred2025-01-27-11-37-39/\n"
     ]
    }
   ],
   "source": [
    "!aws s3 ls {bucket_name}/{proj_name}/model/ "
   ]
  },
  {
   "cell_type": "code",
   "execution_count": 56,
   "id": "41af82e1-7cec-4384-b773-d37a60f83b18",
   "metadata": {},
   "outputs": [
    {
     "name": "stdout",
     "output_type": "stream",
     "text": [
      "                           PRE debug-output/\n",
      "                           PRE output/\n",
      "                           PRE profiler-output/\n"
     ]
    }
   ],
   "source": [
    "!aws s3 ls {bucket_name}/{proj_name}/model/{job_name}/"
   ]
  },
  {
   "cell_type": "code",
   "execution_count": 57,
   "id": "efffa244-28c3-4a3e-a869-bee402e6c905",
   "metadata": {},
   "outputs": [],
   "source": [
    "from sagemaker.serializers import CSVSerializer"
   ]
  },
  {
   "cell_type": "code",
   "execution_count": 58,
   "id": "c5737c7d-d94a-4de0-b9dd-40eaf4aea855",
   "metadata": {
    "scrolled": true
   },
   "outputs": [
    {
     "data": {
      "text/html": [
       "<pre style=\"white-space:pre;overflow-x:auto;line-height:normal;font-family:Menlo,'DejaVu Sans Mono',consolas,'Courier New',monospace\"><span style=\"color: #7fbfbf; text-decoration-color: #7fbfbf\">[01/27/25 11:48:40] </span><span style=\"color: #0069ff; text-decoration-color: #0069ff; font-weight: bold\">INFO    </span> Creating model with name: demandpred-<span style=\"color: #008080; text-decoration-color: #008080; font-weight: bold\">2025</span>-01-27-11-48-40-463           <a href=\"file:///home/ec2-user/anaconda3/envs/python3/lib/python3.10/site-packages/sagemaker/session.py\" target=\"_blank\"><span style=\"color: #7f7f7f; text-decoration-color: #7f7f7f\">session.py</span></a><span style=\"color: #7f7f7f; text-decoration-color: #7f7f7f\">:</span><a href=\"file:///home/ec2-user/anaconda3/envs/python3/lib/python3.10/site-packages/sagemaker/session.py#4094\" target=\"_blank\"><span style=\"color: #7f7f7f; text-decoration-color: #7f7f7f\">4094</span></a>\n",
       "</pre>\n"
      ],
      "text/plain": [
       "\u001b[2;36m[01/27/25 11:48:40]\u001b[0m\u001b[2;36m \u001b[0m\u001b[1;38;2;0;105;255mINFO    \u001b[0m Creating model with name: demandpred-\u001b[1;36m2025\u001b[0m-01-27-11-48-40-463           \u001b]8;id=491786;file:///home/ec2-user/anaconda3/envs/python3/lib/python3.10/site-packages/sagemaker/session.py\u001b\\\u001b[2msession.py\u001b[0m\u001b]8;;\u001b\\\u001b[2m:\u001b[0m\u001b]8;id=611099;file:///home/ec2-user/anaconda3/envs/python3/lib/python3.10/site-packages/sagemaker/session.py#4094\u001b\\\u001b[2m4094\u001b[0m\u001b]8;;\u001b\\\n"
      ]
     },
     "metadata": {},
     "output_type": "display_data"
    },
    {
     "data": {
      "text/html": [
       "<pre style=\"white-space:pre;overflow-x:auto;line-height:normal;font-family:Menlo,'DejaVu Sans Mono',consolas,'Courier New',monospace\"><span style=\"color: #7fbfbf; text-decoration-color: #7fbfbf\">[01/27/25 11:48:41] </span><span style=\"color: #0069ff; text-decoration-color: #0069ff; font-weight: bold\">INFO    </span> Creating endpoint-config with name demandpred-<span style=\"color: #008080; text-decoration-color: #008080; font-weight: bold\">2025</span>-01-27-11-48-40-463  <a href=\"file:///home/ec2-user/anaconda3/envs/python3/lib/python3.10/site-packages/sagemaker/session.py\" target=\"_blank\"><span style=\"color: #7f7f7f; text-decoration-color: #7f7f7f\">session.py</span></a><span style=\"color: #7f7f7f; text-decoration-color: #7f7f7f\">:</span><a href=\"file:///home/ec2-user/anaconda3/envs/python3/lib/python3.10/site-packages/sagemaker/session.py#5889\" target=\"_blank\"><span style=\"color: #7f7f7f; text-decoration-color: #7f7f7f\">5889</span></a>\n",
       "</pre>\n"
      ],
      "text/plain": [
       "\u001b[2;36m[01/27/25 11:48:41]\u001b[0m\u001b[2;36m \u001b[0m\u001b[1;38;2;0;105;255mINFO    \u001b[0m Creating endpoint-config with name demandpred-\u001b[1;36m2025\u001b[0m-01-27-11-48-40-463  \u001b]8;id=771857;file:///home/ec2-user/anaconda3/envs/python3/lib/python3.10/site-packages/sagemaker/session.py\u001b\\\u001b[2msession.py\u001b[0m\u001b]8;;\u001b\\\u001b[2m:\u001b[0m\u001b]8;id=103859;file:///home/ec2-user/anaconda3/envs/python3/lib/python3.10/site-packages/sagemaker/session.py#5889\u001b\\\u001b[2m5889\u001b[0m\u001b]8;;\u001b\\\n"
      ]
     },
     "metadata": {},
     "output_type": "display_data"
    },
    {
     "data": {
      "text/html": [
       "<pre style=\"white-space:pre;overflow-x:auto;line-height:normal;font-family:Menlo,'DejaVu Sans Mono',consolas,'Courier New',monospace\"><span style=\"color: #7fbfbf; text-decoration-color: #7fbfbf\">                    </span><span style=\"color: #0069ff; text-decoration-color: #0069ff; font-weight: bold\">INFO    </span> Creating endpoint with name demandpred-<span style=\"color: #008080; text-decoration-color: #008080; font-weight: bold\">2025</span>-01-27-11-48-40-463         <a href=\"file:///home/ec2-user/anaconda3/envs/python3/lib/python3.10/site-packages/sagemaker/session.py\" target=\"_blank\"><span style=\"color: #7f7f7f; text-decoration-color: #7f7f7f\">session.py</span></a><span style=\"color: #7f7f7f; text-decoration-color: #7f7f7f\">:</span><a href=\"file:///home/ec2-user/anaconda3/envs/python3/lib/python3.10/site-packages/sagemaker/session.py#4711\" target=\"_blank\"><span style=\"color: #7f7f7f; text-decoration-color: #7f7f7f\">4711</span></a>\n",
       "</pre>\n"
      ],
      "text/plain": [
       "\u001b[2;36m                   \u001b[0m\u001b[2;36m \u001b[0m\u001b[1;38;2;0;105;255mINFO    \u001b[0m Creating endpoint with name demandpred-\u001b[1;36m2025\u001b[0m-01-27-11-48-40-463         \u001b]8;id=513819;file:///home/ec2-user/anaconda3/envs/python3/lib/python3.10/site-packages/sagemaker/session.py\u001b\\\u001b[2msession.py\u001b[0m\u001b]8;;\u001b\\\u001b[2m:\u001b[0m\u001b]8;id=834992;file:///home/ec2-user/anaconda3/envs/python3/lib/python3.10/site-packages/sagemaker/session.py#4711\u001b\\\u001b[2m4711\u001b[0m\u001b]8;;\u001b\\\n"
      ]
     },
     "metadata": {},
     "output_type": "display_data"
    },
    {
     "name": "stdout",
     "output_type": "stream",
     "text": [
      "-----------!"
     ]
    }
   ],
   "source": [
    "Xgb_predict=xgb_model.deploy( initial_instance_count=1,instance_type=\"ml.t2.medium\", serializer=CSVSerializer() )"
   ]
  },
  {
   "cell_type": "code",
   "execution_count": 59,
   "id": "70b6eb6a-fdc3-4810-b611-858fbec91e34",
   "metadata": {},
   "outputs": [
    {
     "data": {
      "text/plain": [
       "b'50.551422119140625'"
      ]
     },
     "execution_count": 59,
     "metadata": {},
     "output_type": "execute_result"
    }
   ],
   "source": [
    "Xgb_predict.predict(\"2,2021,2\")"
   ]
  },
  {
   "cell_type": "code",
   "execution_count": 62,
   "id": "c74eb6fe-e1ff-479a-a3b1-788543140771",
   "metadata": {},
   "outputs": [
    {
     "name": "stdout",
     "output_type": "stream",
     "text": [
      "demandpred-2025-01-27-11-48-40-463\n"
     ]
    }
   ],
   "source": [
    "endpoint_name = Xgb_predict.endpoint_name\n",
    "print(endpoint_name)"
   ]
  },
  {
   "cell_type": "code",
   "execution_count": 63,
   "id": "d72bb8d8-726d-452e-ac60-994c148bd827",
   "metadata": {},
   "outputs": [],
   "source": [
    "sgmkr_runtime = boto3.client(\"runtime.sagemaker\")"
   ]
  },
  {
   "cell_type": "code",
   "execution_count": 65,
   "id": "bdee0d6d-9f7c-4d19-ae04-2c3c44c29a32",
   "metadata": {},
   "outputs": [
    {
     "name": "stdout",
     "output_type": "stream",
     "text": [
      "{'ResponseMetadata': {'RequestId': 'b0f66314-6eee-4e66-b320-8f309024307c', 'HTTPStatusCode': 200, 'HTTPHeaders': {'x-amzn-requestid': 'b0f66314-6eee-4e66-b320-8f309024307c', 'x-amzn-invoked-production-variant': 'AllTraffic', 'date': 'Mon, 27 Jan 2025 11:59:19 GMT', 'content-type': 'text/csv; charset=utf-8', 'content-length': '18', 'connection': 'keep-alive'}, 'RetryAttempts': 0}, 'ContentType': 'text/csv; charset=utf-8', 'InvokedProductionVariant': 'AllTraffic', 'Body': <botocore.response.StreamingBody object at 0x7f0f483c9ae0>}\n"
     ]
    }
   ],
   "source": [
    "response = sgmkr_runtime.invoke_endpoint(\n",
    "    EndpointName=endpoint_name, ContentType=\"text/csv\", Body=text\n",
    ")\n",
    "print(response)"
   ]
  },
  {
   "cell_type": "code",
   "execution_count": 67,
   "id": "3aa28c86-2b71-45f8-891d-81be089419d5",
   "metadata": {},
   "outputs": [
    {
     "data": {
      "text/plain": [
       "'50.551422119140625'"
      ]
     },
     "execution_count": 67,
     "metadata": {},
     "output_type": "execute_result"
    }
   ],
   "source": [
    "response['Body'].read().decode()"
   ]
  },
  {
   "cell_type": "code",
   "execution_count": 64,
   "id": "aa75e3c6-85a6-4fc3-bde7-8ae7df8e56fd",
   "metadata": {},
   "outputs": [],
   "source": [
    "text=\"2,2021,2\""
   ]
  },
  {
   "cell_type": "code",
   "execution_count": 91,
   "id": "2b60f46a-21ac-4f82-b198-e5b4d9019775",
   "metadata": {},
   "outputs": [],
   "source": [
    "obj = s3_client.get_object( Bucket=bucket_name, Key=\"prodDemand/data/test_clean.csv\")\n",
    "testDf = pd.read_csv(obj[\"Body\"])\n"
   ]
  },
  {
   "cell_type": "code",
   "execution_count": 114,
   "id": "fc19b539-5de4-46cc-abc9-b603682ae14d",
   "metadata": {},
   "outputs": [
    {
     "data": {
      "text/html": [
       "<div>\n",
       "<style scoped>\n",
       "    .dataframe tbody tr th:only-of-type {\n",
       "        vertical-align: middle;\n",
       "    }\n",
       "\n",
       "    .dataframe tbody tr th {\n",
       "        vertical-align: top;\n",
       "    }\n",
       "\n",
       "    .dataframe thead th {\n",
       "        text-align: right;\n",
       "    }\n",
       "</style>\n",
       "<table border=\"1\" class=\"dataframe\">\n",
       "  <thead>\n",
       "    <tr style=\"text-align: right;\">\n",
       "      <th></th>\n",
       "      <th>356</th>\n",
       "      <th>3</th>\n",
       "      <th>2020</th>\n",
       "      <th>1</th>\n",
       "    </tr>\n",
       "  </thead>\n",
       "  <tbody>\n",
       "    <tr>\n",
       "      <th>0</th>\n",
       "      <td>100</td>\n",
       "      <td>5</td>\n",
       "      <td>2021</td>\n",
       "      <td>12</td>\n",
       "    </tr>\n",
       "    <tr>\n",
       "      <th>1</th>\n",
       "      <td>377</td>\n",
       "      <td>3</td>\n",
       "      <td>2021</td>\n",
       "      <td>2</td>\n",
       "    </tr>\n",
       "    <tr>\n",
       "      <th>2</th>\n",
       "      <td>145</td>\n",
       "      <td>6</td>\n",
       "      <td>2020</td>\n",
       "      <td>5</td>\n",
       "    </tr>\n",
       "    <tr>\n",
       "      <th>3</th>\n",
       "      <td>51</td>\n",
       "      <td>4</td>\n",
       "      <td>2021</td>\n",
       "      <td>3</td>\n",
       "    </tr>\n",
       "    <tr>\n",
       "      <th>4</th>\n",
       "      <td>99</td>\n",
       "      <td>1</td>\n",
       "      <td>2021</td>\n",
       "      <td>7</td>\n",
       "    </tr>\n",
       "    <tr>\n",
       "      <th>5</th>\n",
       "      <td>47</td>\n",
       "      <td>4</td>\n",
       "      <td>2019</td>\n",
       "      <td>9</td>\n",
       "    </tr>\n",
       "    <tr>\n",
       "      <th>6</th>\n",
       "      <td>100</td>\n",
       "      <td>5</td>\n",
       "      <td>2021</td>\n",
       "      <td>7</td>\n",
       "    </tr>\n",
       "    <tr>\n",
       "      <th>7</th>\n",
       "      <td>97</td>\n",
       "      <td>6</td>\n",
       "      <td>2019</td>\n",
       "      <td>5</td>\n",
       "    </tr>\n",
       "    <tr>\n",
       "      <th>8</th>\n",
       "      <td>56</td>\n",
       "      <td>1</td>\n",
       "      <td>2019</td>\n",
       "      <td>9</td>\n",
       "    </tr>\n",
       "    <tr>\n",
       "      <th>9</th>\n",
       "      <td>290</td>\n",
       "      <td>3</td>\n",
       "      <td>2020</td>\n",
       "      <td>12</td>\n",
       "    </tr>\n",
       "    <tr>\n",
       "      <th>10</th>\n",
       "      <td>48</td>\n",
       "      <td>4</td>\n",
       "      <td>2019</td>\n",
       "      <td>2</td>\n",
       "    </tr>\n",
       "    <tr>\n",
       "      <th>11</th>\n",
       "      <td>39</td>\n",
       "      <td>1</td>\n",
       "      <td>2019</td>\n",
       "      <td>6</td>\n",
       "    </tr>\n",
       "    <tr>\n",
       "      <th>12</th>\n",
       "      <td>86</td>\n",
       "      <td>1</td>\n",
       "      <td>2021</td>\n",
       "      <td>2</td>\n",
       "    </tr>\n",
       "    <tr>\n",
       "      <th>13</th>\n",
       "      <td>95</td>\n",
       "      <td>6</td>\n",
       "      <td>2019</td>\n",
       "      <td>4</td>\n",
       "    </tr>\n",
       "    <tr>\n",
       "      <th>14</th>\n",
       "      <td>47</td>\n",
       "      <td>4</td>\n",
       "      <td>2021</td>\n",
       "      <td>5</td>\n",
       "    </tr>\n",
       "    <tr>\n",
       "      <th>15</th>\n",
       "      <td>130</td>\n",
       "      <td>6</td>\n",
       "      <td>2020</td>\n",
       "      <td>8</td>\n",
       "    </tr>\n",
       "    <tr>\n",
       "      <th>16</th>\n",
       "      <td>49</td>\n",
       "      <td>2</td>\n",
       "      <td>2022</td>\n",
       "      <td>3</td>\n",
       "    </tr>\n",
       "    <tr>\n",
       "      <th>17</th>\n",
       "      <td>39</td>\n",
       "      <td>2</td>\n",
       "      <td>2022</td>\n",
       "      <td>4</td>\n",
       "    </tr>\n",
       "    <tr>\n",
       "      <th>18</th>\n",
       "      <td>33</td>\n",
       "      <td>2</td>\n",
       "      <td>2020</td>\n",
       "      <td>7</td>\n",
       "    </tr>\n",
       "    <tr>\n",
       "      <th>19</th>\n",
       "      <td>58</td>\n",
       "      <td>4</td>\n",
       "      <td>2020</td>\n",
       "      <td>3</td>\n",
       "    </tr>\n",
       "    <tr>\n",
       "      <th>20</th>\n",
       "      <td>59</td>\n",
       "      <td>1</td>\n",
       "      <td>2020</td>\n",
       "      <td>3</td>\n",
       "    </tr>\n",
       "    <tr>\n",
       "      <th>21</th>\n",
       "      <td>98</td>\n",
       "      <td>5</td>\n",
       "      <td>2020</td>\n",
       "      <td>6</td>\n",
       "    </tr>\n",
       "    <tr>\n",
       "      <th>22</th>\n",
       "      <td>86</td>\n",
       "      <td>1</td>\n",
       "      <td>2020</td>\n",
       "      <td>4</td>\n",
       "    </tr>\n",
       "    <tr>\n",
       "      <th>23</th>\n",
       "      <td>109</td>\n",
       "      <td>1</td>\n",
       "      <td>2021</td>\n",
       "      <td>12</td>\n",
       "    </tr>\n",
       "    <tr>\n",
       "      <th>24</th>\n",
       "      <td>14</td>\n",
       "      <td>2</td>\n",
       "      <td>2019</td>\n",
       "      <td>1</td>\n",
       "    </tr>\n",
       "    <tr>\n",
       "      <th>25</th>\n",
       "      <td>38</td>\n",
       "      <td>2</td>\n",
       "      <td>2021</td>\n",
       "      <td>3</td>\n",
       "    </tr>\n",
       "    <tr>\n",
       "      <th>26</th>\n",
       "      <td>36</td>\n",
       "      <td>2</td>\n",
       "      <td>2021</td>\n",
       "      <td>5</td>\n",
       "    </tr>\n",
       "    <tr>\n",
       "      <th>27</th>\n",
       "      <td>95</td>\n",
       "      <td>5</td>\n",
       "      <td>2020</td>\n",
       "      <td>5</td>\n",
       "    </tr>\n",
       "    <tr>\n",
       "      <th>28</th>\n",
       "      <td>139</td>\n",
       "      <td>6</td>\n",
       "      <td>2020</td>\n",
       "      <td>4</td>\n",
       "    </tr>\n",
       "    <tr>\n",
       "      <th>29</th>\n",
       "      <td>46</td>\n",
       "      <td>5</td>\n",
       "      <td>2019</td>\n",
       "      <td>8</td>\n",
       "    </tr>\n",
       "    <tr>\n",
       "      <th>30</th>\n",
       "      <td>285</td>\n",
       "      <td>3</td>\n",
       "      <td>2020</td>\n",
       "      <td>9</td>\n",
       "    </tr>\n",
       "    <tr>\n",
       "      <th>31</th>\n",
       "      <td>21</td>\n",
       "      <td>2</td>\n",
       "      <td>2021</td>\n",
       "      <td>1</td>\n",
       "    </tr>\n",
       "    <tr>\n",
       "      <th>32</th>\n",
       "      <td>358</td>\n",
       "      <td>3</td>\n",
       "      <td>2021</td>\n",
       "      <td>4</td>\n",
       "    </tr>\n",
       "    <tr>\n",
       "      <th>33</th>\n",
       "      <td>31</td>\n",
       "      <td>2</td>\n",
       "      <td>2019</td>\n",
       "      <td>7</td>\n",
       "    </tr>\n",
       "    <tr>\n",
       "      <th>34</th>\n",
       "      <td>19</td>\n",
       "      <td>2</td>\n",
       "      <td>2019</td>\n",
       "      <td>4</td>\n",
       "    </tr>\n",
       "    <tr>\n",
       "      <th>35</th>\n",
       "      <td>21</td>\n",
       "      <td>2</td>\n",
       "      <td>2020</td>\n",
       "      <td>9</td>\n",
       "    </tr>\n",
       "    <tr>\n",
       "      <th>36</th>\n",
       "      <td>47</td>\n",
       "      <td>1</td>\n",
       "      <td>2019</td>\n",
       "      <td>8</td>\n",
       "    </tr>\n",
       "    <tr>\n",
       "      <th>37</th>\n",
       "      <td>75</td>\n",
       "      <td>1</td>\n",
       "      <td>2020</td>\n",
       "      <td>5</td>\n",
       "    </tr>\n",
       "    <tr>\n",
       "      <th>38</th>\n",
       "      <td>39</td>\n",
       "      <td>2</td>\n",
       "      <td>2021</td>\n",
       "      <td>7</td>\n",
       "    </tr>\n",
       "  </tbody>\n",
       "</table>\n",
       "</div>"
      ],
      "text/plain": [
       "    356  3  2020   1\n",
       "0   100  5  2021  12\n",
       "1   377  3  2021   2\n",
       "2   145  6  2020   5\n",
       "3    51  4  2021   3\n",
       "4    99  1  2021   7\n",
       "5    47  4  2019   9\n",
       "6   100  5  2021   7\n",
       "7    97  6  2019   5\n",
       "8    56  1  2019   9\n",
       "9   290  3  2020  12\n",
       "10   48  4  2019   2\n",
       "11   39  1  2019   6\n",
       "12   86  1  2021   2\n",
       "13   95  6  2019   4\n",
       "14   47  4  2021   5\n",
       "15  130  6  2020   8\n",
       "16   49  2  2022   3\n",
       "17   39  2  2022   4\n",
       "18   33  2  2020   7\n",
       "19   58  4  2020   3\n",
       "20   59  1  2020   3\n",
       "21   98  5  2020   6\n",
       "22   86  1  2020   4\n",
       "23  109  1  2021  12\n",
       "24   14  2  2019   1\n",
       "25   38  2  2021   3\n",
       "26   36  2  2021   5\n",
       "27   95  5  2020   5\n",
       "28  139  6  2020   4\n",
       "29   46  5  2019   8\n",
       "30  285  3  2020   9\n",
       "31   21  2  2021   1\n",
       "32  358  3  2021   4\n",
       "33   31  2  2019   7\n",
       "34   19  2  2019   4\n",
       "35   21  2  2020   9\n",
       "36   47  1  2019   8\n",
       "37   75  1  2020   5\n",
       "38   39  2  2021   7"
      ]
     },
     "execution_count": 114,
     "metadata": {},
     "output_type": "execute_result"
    }
   ],
   "source": [
    "testDf"
   ]
  },
  {
   "cell_type": "code",
   "execution_count": 92,
   "id": "577fc859-1846-4654-915b-5841c8205020",
   "metadata": {},
   "outputs": [],
   "source": [
    "import pandas as pd\n",
    "import io"
   ]
  },
  {
   "cell_type": "code",
   "execution_count": 126,
   "id": "29a4c5d9-466c-4813-98b3-a71a4d1dde86",
   "metadata": {},
   "outputs": [
    {
     "data": {
      "text/plain": [
       "'5,2021,12\\n3,2021,2\\n6,2020,5\\n4,2021,3\\n1,2021,7\\n4,2019,9\\n5,2021,7\\n6,2019,5\\n1,2019,9\\n3,2020,12\\n4,2019,2\\n1,2019,6\\n1,2021,2\\n6,2019,4\\n4,2021,5\\n6,2020,8\\n2,2022,3\\n2,2022,4\\n2,2020,7\\n4,2020,3\\n1,2020,3\\n5,2020,6\\n1,2020,4\\n1,2021,12\\n2,2019,1\\n2,2021,3\\n2,2021,5\\n5,2020,5\\n6,2020,4\\n5,2019,8\\n3,2020,9\\n2,2021,1\\n3,2021,4\\n2,2019,7\\n2,2019,4\\n2,2020,9\\n1,2019,8\\n1,2020,5\\n2,2021,7\\n'"
      ]
     },
     "execution_count": 126,
     "metadata": {},
     "output_type": "execute_result"
    }
   ],
   "source": [
    "csv_buffer = io.StringIO()\n",
    "testDf.to_csv(csv_buffer,header=None, index=None)\n",
    "text=csv_buffer.getvalue()\n",
    "text"
   ]
  },
  {
   "cell_type": "code",
   "execution_count": 127,
   "id": "427c9ae7-6aaf-4e41-8c1e-a53569d1e8fa",
   "metadata": {},
   "outputs": [
    {
     "data": {
      "text/plain": [
       "'85.62113952636719,320.0539855957031,112.4276351928711,74.39828491210938,81.93253326416016,61.46337890625,85.62113952636719,101.94023132324219,57.01935577392578,302.9542541503906,61.46337890625,57.01935577392578,81.93253326416016,101.94023132324219,74.39828491210938,112.4276351928711,64.25947570800781,64.25947570800781,25.297542572021484,71.9507827758789,56.67866516113281,83.17363739013672,56.67866516113281,81.93253326416016,25.63823699951172,50.551422119140625,50.551422119140625,83.17363739013672,112.4276351928711,72.68623352050781,302.9542541503906,50.551422119140625,320.0539855957031,25.63823699951172,25.63823699951172,25.297542572021484,57.01935577392578,56.67866516113281,50.551422119140625'"
      ]
     },
     "execution_count": 127,
     "metadata": {},
     "output_type": "execute_result"
    }
   ],
   "source": [
    "response = sgmkr_runtime.invoke_endpoint(\n",
    "    EndpointName=endpoint_name, ContentType=\"text/csv\", Body=text\n",
    ")\n",
    "response['Body'].read().decode()"
   ]
  },
  {
   "cell_type": "code",
   "execution_count": 74,
   "id": "656e25da-02c4-49bf-a204-5b49d4d44ec4",
   "metadata": {},
   "outputs": [],
   "source": [
    "s3_client=boto3.client(\"s3\")"
   ]
  },
  {
   "cell_type": "code",
   "execution_count": null,
   "id": "edaa56ea-fa4c-4cbd-ad63-d1fcfadf91b8",
   "metadata": {},
   "outputs": [],
   "source": [
    "sgmkr_clnt.delete_endpoint(EndpointName=endpoint_name)"
   ]
  }
 ],
 "metadata": {
  "kernelspec": {
   "display_name": "conda_python3",
   "language": "python",
   "name": "conda_python3"
  },
  "language_info": {
   "codemirror_mode": {
    "name": "ipython",
    "version": 3
   },
   "file_extension": ".py",
   "mimetype": "text/x-python",
   "name": "python",
   "nbconvert_exporter": "python",
   "pygments_lexer": "ipython3",
   "version": "3.10.16"
  }
 },
 "nbformat": 4,
 "nbformat_minor": 5
}
