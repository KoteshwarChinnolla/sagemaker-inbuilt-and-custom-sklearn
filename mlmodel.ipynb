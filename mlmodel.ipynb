{
 "cells": [
  {
   "cell_type": "code",
   "execution_count": 2,
   "id": "01c9f2f3-2c1d-426f-af09-b460659f6ffe",
   "metadata": {},
   "outputs": [
    {
     "name": "stdout",
     "output_type": "stream",
     "text": [
      "Requirement already satisfied: boto3 in c:\\users\\chinnnolla koteshwar\\anaconda3\\lib\\site-packages (1.36.6)\n",
      "Requirement already satisfied: sagemaker in c:\\users\\chinnnolla koteshwar\\anaconda3\\lib\\site-packages (2.237.3)\n",
      "Requirement already satisfied: botocore<1.37.0,>=1.36.6 in c:\\users\\chinnnolla koteshwar\\anaconda3\\lib\\site-packages (from boto3) (1.36.6)\n",
      "Requirement already satisfied: jmespath<2.0.0,>=0.7.1 in c:\\desktop\\data science\\boto3\\src\\jmespath (from boto3) (1.0.1)\n",
      "Requirement already satisfied: s3transfer<0.12.0,>=0.11.0 in c:\\users\\chinnnolla koteshwar\\anaconda3\\lib\\site-packages (from boto3) (0.11.2)\n",
      "Requirement already satisfied: attrs<24,>=23.1.0 in c:\\users\\chinnnolla koteshwar\\anaconda3\\lib\\site-packages (from sagemaker) (23.2.0)\n",
      "Requirement already satisfied: cloudpickle>=2.2.1 in c:\\users\\chinnnolla koteshwar\\anaconda3\\lib\\site-packages (from sagemaker) (3.1.1)\n",
      "Requirement already satisfied: docker in c:\\users\\chinnnolla koteshwar\\anaconda3\\lib\\site-packages (from sagemaker) (7.1.0)\n",
      "Requirement already satisfied: fastapi in c:\\users\\chinnnolla koteshwar\\anaconda3\\lib\\site-packages (from sagemaker) (0.111.0)\n",
      "Requirement already satisfied: google-pasta in c:\\users\\chinnnolla koteshwar\\anaconda3\\lib\\site-packages (from sagemaker) (0.2.0)\n",
      "Requirement already satisfied: importlib-metadata<7.0,>=1.4.0 in c:\\users\\chinnnolla koteshwar\\anaconda3\\lib\\site-packages (from sagemaker) (4.11.3)\n",
      "Requirement already satisfied: jsonschema in c:\\users\\chinnnolla koteshwar\\anaconda3\\lib\\site-packages (from sagemaker) (4.4.0)\n",
      "Collecting numpy<2.0,>=1.9.0 (from sagemaker)\n",
      "  Downloading numpy-1.26.4-cp39-cp39-win_amd64.whl.metadata (61 kB)\n",
      "Requirement already satisfied: omegaconf<2.3,>=2.2 in c:\\users\\chinnnolla koteshwar\\anaconda3\\lib\\site-packages (from sagemaker) (2.2.3)\n",
      "Requirement already satisfied: packaging>=20.0 in c:\\users\\chinnnolla koteshwar\\anaconda3\\lib\\site-packages (from sagemaker) (24.2)\n",
      "Requirement already satisfied: pandas in c:\\users\\chinnnolla koteshwar\\anaconda3\\lib\\site-packages (from sagemaker) (1.4.2)\n",
      "Requirement already satisfied: pathos in c:\\users\\chinnnolla koteshwar\\anaconda3\\lib\\site-packages (from sagemaker) (0.3.3)\n",
      "Requirement already satisfied: platformdirs in c:\\users\\chinnnolla koteshwar\\anaconda3\\lib\\site-packages (from sagemaker) (4.3.6)\n",
      "Requirement already satisfied: protobuf<6.0,>=3.12 in c:\\users\\chinnnolla koteshwar\\anaconda3\\lib\\site-packages (from sagemaker) (5.29.3)\n",
      "Requirement already satisfied: psutil in c:\\users\\chinnnolla koteshwar\\anaconda3\\lib\\site-packages (from sagemaker) (5.8.0)\n",
      "Requirement already satisfied: pyyaml~=6.0 in c:\\users\\chinnnolla koteshwar\\anaconda3\\lib\\site-packages (from sagemaker) (6.0)\n",
      "Requirement already satisfied: requests in c:\\users\\chinnnolla koteshwar\\anaconda3\\lib\\site-packages (from sagemaker) (2.32.3)\n",
      "Requirement already satisfied: sagemaker-core<2.0.0,>=1.0.17 in c:\\users\\chinnnolla koteshwar\\anaconda3\\lib\\site-packages (from sagemaker) (1.0.19)\n",
      "Requirement already satisfied: schema in c:\\users\\chinnnolla koteshwar\\anaconda3\\lib\\site-packages (from sagemaker) (0.7.7)\n",
      "Requirement already satisfied: smdebug-rulesconfig==1.0.1 in c:\\users\\chinnnolla koteshwar\\anaconda3\\lib\\site-packages (from sagemaker) (1.0.1)\n",
      "Requirement already satisfied: tblib<4,>=1.7.0 in c:\\users\\chinnnolla koteshwar\\anaconda3\\lib\\site-packages (from sagemaker) (1.7.0)\n",
      "Requirement already satisfied: tqdm in c:\\users\\chinnnolla koteshwar\\anaconda3\\lib\\site-packages (from sagemaker) (4.67.1)\n",
      "Requirement already satisfied: urllib3<3.0.0,>=1.26.8 in c:\\users\\chinnnolla koteshwar\\anaconda3\\lib\\site-packages (from sagemaker) (1.26.20)\n",
      "Requirement already satisfied: uvicorn in c:\\users\\chinnnolla koteshwar\\anaconda3\\lib\\site-packages (from sagemaker) (0.30.1)\n",
      "Requirement already satisfied: python-dateutil<3.0.0,>=2.1 in c:\\users\\chinnnolla koteshwar\\anaconda3\\lib\\site-packages (from botocore<1.37.0,>=1.36.6->boto3) (2.8.2)\n",
      "Requirement already satisfied: zipp>=0.5 in c:\\users\\chinnnolla koteshwar\\anaconda3\\lib\\site-packages (from importlib-metadata<7.0,>=1.4.0->sagemaker) (3.7.0)\n",
      "Requirement already satisfied: antlr4-python3-runtime==4.9.* in c:\\users\\chinnnolla koteshwar\\anaconda3\\lib\\site-packages (from omegaconf<2.3,>=2.2->sagemaker) (4.9.3)\n",
      "Requirement already satisfied: pydantic<3.0.0,>=2.0.0 in c:\\users\\chinnnolla koteshwar\\anaconda3\\lib\\site-packages (from sagemaker-core<2.0.0,>=1.0.17->sagemaker) (2.9.2)\n",
      "Requirement already satisfied: rich<14.0.0,>=13.0.0 in c:\\users\\chinnnolla koteshwar\\anaconda3\\lib\\site-packages (from sagemaker-core<2.0.0,>=1.0.17->sagemaker) (13.7.1)\n",
      "Requirement already satisfied: mock<5.0,>4.0 in c:\\users\\chinnnolla koteshwar\\anaconda3\\lib\\site-packages (from sagemaker-core<2.0.0,>=1.0.17->sagemaker) (4.0.3)\n",
      "Requirement already satisfied: pyrsistent!=0.17.0,!=0.17.1,!=0.17.2,>=0.14.0 in c:\\users\\chinnnolla koteshwar\\anaconda3\\lib\\site-packages (from jsonschema->sagemaker) (0.18.0)\n",
      "Requirement already satisfied: pywin32>=304 in c:\\users\\chinnnolla koteshwar\\anaconda3\\lib\\site-packages (from docker->sagemaker) (308)\n",
      "Requirement already satisfied: charset-normalizer<4,>=2 in c:\\users\\chinnnolla koteshwar\\anaconda3\\lib\\site-packages (from requests->sagemaker) (2.0.4)\n",
      "Requirement already satisfied: idna<4,>=2.5 in c:\\users\\chinnnolla koteshwar\\anaconda3\\lib\\site-packages (from requests->sagemaker) (3.3)\n",
      "Requirement already satisfied: certifi>=2017.4.17 in c:\\users\\chinnnolla koteshwar\\anaconda3\\lib\\site-packages (from requests->sagemaker) (2021.10.8)\n",
      "Requirement already satisfied: starlette<0.38.0,>=0.37.2 in c:\\users\\chinnnolla koteshwar\\anaconda3\\lib\\site-packages (from fastapi->sagemaker) (0.37.2)\n",
      "Requirement already satisfied: typing-extensions>=4.8.0 in c:\\users\\chinnnolla koteshwar\\anaconda3\\lib\\site-packages (from fastapi->sagemaker) (4.8.0)\n",
      "Requirement already satisfied: fastapi-cli>=0.0.2 in c:\\users\\chinnnolla koteshwar\\anaconda3\\lib\\site-packages (from fastapi->sagemaker) (0.0.4)\n",
      "Requirement already satisfied: httpx>=0.23.0 in c:\\users\\chinnnolla koteshwar\\anaconda3\\lib\\site-packages (from fastapi->sagemaker) (0.27.0)\n",
      "Requirement already satisfied: jinja2>=2.11.2 in c:\\users\\chinnnolla koteshwar\\anaconda3\\lib\\site-packages (from fastapi->sagemaker) (3.1.5)\n",
      "Requirement already satisfied: python-multipart>=0.0.7 in c:\\users\\chinnnolla koteshwar\\anaconda3\\lib\\site-packages (from fastapi->sagemaker) (0.0.9)\n",
      "Requirement already satisfied: ujson!=4.0.2,!=4.1.0,!=4.2.0,!=4.3.0,!=5.0.0,!=5.1.0,>=4.0.1 in c:\\users\\chinnnolla koteshwar\\anaconda3\\lib\\site-packages (from fastapi->sagemaker) (5.10.0)\n",
      "Requirement already satisfied: orjson>=3.2.1 in c:\\users\\chinnnolla koteshwar\\anaconda3\\lib\\site-packages (from fastapi->sagemaker) (3.10.4)\n",
      "Requirement already satisfied: email_validator>=2.0.0 in c:\\users\\chinnnolla koteshwar\\anaconda3\\lib\\site-packages (from fastapi->sagemaker) (2.1.1)\n",
      "Requirement already satisfied: click>=7.0 in c:\\users\\chinnnolla koteshwar\\anaconda3\\lib\\site-packages (from uvicorn->sagemaker) (8.0.4)\n",
      "Requirement already satisfied: h11>=0.8 in c:\\users\\chinnnolla koteshwar\\anaconda3\\lib\\site-packages (from uvicorn->sagemaker) (0.14.0)\n",
      "Requirement already satisfied: six in c:\\users\\chinnnolla koteshwar\\anaconda3\\lib\\site-packages (from google-pasta->sagemaker) (1.16.0)\n",
      "Requirement already satisfied: pytz>=2020.1 in c:\\users\\chinnnolla koteshwar\\anaconda3\\lib\\site-packages (from pandas->sagemaker) (2021.3)\n",
      "Requirement already satisfied: ppft>=1.7.6.9 in c:\\users\\chinnnolla koteshwar\\anaconda3\\lib\\site-packages (from pathos->sagemaker) (1.7.6.9)\n",
      "Requirement already satisfied: dill>=0.3.9 in c:\\users\\chinnnolla koteshwar\\anaconda3\\lib\\site-packages (from pathos->sagemaker) (0.3.9)\n",
      "Requirement already satisfied: pox>=0.3.5 in c:\\users\\chinnnolla koteshwar\\anaconda3\\lib\\site-packages (from pathos->sagemaker) (0.3.5)\n",
      "Requirement already satisfied: multiprocess>=0.70.17 in c:\\users\\chinnnolla koteshwar\\anaconda3\\lib\\site-packages (from pathos->sagemaker) (0.70.17)\n",
      "Requirement already satisfied: colorama in c:\\users\\chinnnolla koteshwar\\anaconda3\\lib\\site-packages (from tqdm->sagemaker) (0.4.6)\n",
      "Requirement already satisfied: dnspython>=2.0.0 in c:\\users\\chinnnolla koteshwar\\anaconda3\\lib\\site-packages (from email_validator>=2.0.0->fastapi->sagemaker) (2.6.1)\n",
      "Requirement already satisfied: typer>=0.12.3 in c:\\users\\chinnnolla koteshwar\\anaconda3\\lib\\site-packages (from fastapi-cli>=0.0.2->fastapi->sagemaker) (0.12.3)\n",
      "Requirement already satisfied: anyio in c:\\users\\chinnnolla koteshwar\\anaconda3\\lib\\site-packages (from httpx>=0.23.0->fastapi->sagemaker) (3.5.0)\n",
      "Requirement already satisfied: httpcore==1.* in c:\\users\\chinnnolla koteshwar\\anaconda3\\lib\\site-packages (from httpx>=0.23.0->fastapi->sagemaker) (1.0.5)\n",
      "Requirement already satisfied: sniffio in c:\\users\\chinnnolla koteshwar\\anaconda3\\lib\\site-packages (from httpx>=0.23.0->fastapi->sagemaker) (1.2.0)\n",
      "Requirement already satisfied: MarkupSafe>=2.0 in c:\\users\\chinnnolla koteshwar\\anaconda3\\lib\\site-packages (from jinja2>=2.11.2->fastapi->sagemaker) (2.0.1)\n",
      "Requirement already satisfied: annotated-types>=0.6.0 in c:\\users\\chinnnolla koteshwar\\anaconda3\\lib\\site-packages (from pydantic<3.0.0,>=2.0.0->sagemaker-core<2.0.0,>=1.0.17->sagemaker) (0.6.0)\n",
      "Requirement already satisfied: pydantic-core==2.23.4 in c:\\users\\chinnnolla koteshwar\\anaconda3\\lib\\site-packages (from pydantic<3.0.0,>=2.0.0->sagemaker-core<2.0.0,>=1.0.17->sagemaker) (2.23.4)\n",
      "Requirement already satisfied: markdown-it-py>=2.2.0 in c:\\users\\chinnnolla koteshwar\\anaconda3\\lib\\site-packages (from rich<14.0.0,>=13.0.0->sagemaker-core<2.0.0,>=1.0.17->sagemaker) (3.0.0)\n",
      "Requirement already satisfied: pygments<3.0.0,>=2.13.0 in c:\\users\\chinnnolla koteshwar\\anaconda3\\lib\\site-packages (from rich<14.0.0,>=13.0.0->sagemaker-core<2.0.0,>=1.0.17->sagemaker) (2.18.0)\n",
      "Requirement already satisfied: httptools>=0.5.0 in c:\\users\\chinnnolla koteshwar\\anaconda3\\lib\\site-packages (from uvicorn[standard]>=0.12.0->fastapi->sagemaker) (0.6.1)\n",
      "Requirement already satisfied: python-dotenv>=0.13 in c:\\users\\chinnnolla koteshwar\\anaconda3\\lib\\site-packages (from uvicorn[standard]>=0.12.0->fastapi->sagemaker) (1.0.1)\n",
      "Requirement already satisfied: watchfiles>=0.13 in c:\\users\\chinnnolla koteshwar\\anaconda3\\lib\\site-packages (from uvicorn[standard]>=0.12.0->fastapi->sagemaker) (0.22.0)\n",
      "Requirement already satisfied: websockets>=10.4 in c:\\users\\chinnnolla koteshwar\\anaconda3\\lib\\site-packages (from uvicorn[standard]>=0.12.0->fastapi->sagemaker) (11.0.3)\n",
      "Requirement already satisfied: mdurl~=0.1 in c:\\users\\chinnnolla koteshwar\\anaconda3\\lib\\site-packages (from markdown-it-py>=2.2.0->rich<14.0.0,>=13.0.0->sagemaker-core<2.0.0,>=1.0.17->sagemaker) (0.1.2)\n",
      "Requirement already satisfied: shellingham>=1.3.0 in c:\\users\\chinnnolla koteshwar\\anaconda3\\lib\\site-packages (from typer>=0.12.3->fastapi-cli>=0.0.2->fastapi->sagemaker) (1.5.4)\n",
      "Downloading numpy-1.26.4-cp39-cp39-win_amd64.whl (15.8 MB)\n",
      "   ---------------------------------------- 0.0/15.8 MB ? eta -:--:--\n",
      "   -- ------------------------------------- 1.0/15.8 MB 5.0 MB/s eta 0:00:03\n",
      "   ---- ----------------------------------- 1.8/15.8 MB 4.2 MB/s eta 0:00:04\n",
      "   ------- -------------------------------- 2.9/15.8 MB 4.5 MB/s eta 0:00:03\n",
      "   --------- ------------------------------ 3.9/15.8 MB 4.5 MB/s eta 0:00:03\n",
      "   ------------- -------------------------- 5.2/15.8 MB 4.8 MB/s eta 0:00:03\n",
      "   ---------------- ----------------------- 6.6/15.8 MB 5.2 MB/s eta 0:00:02\n",
      "   -------------------- ------------------- 8.1/15.8 MB 5.4 MB/s eta 0:00:02\n",
      "   ------------------------ --------------- 9.7/15.8 MB 5.6 MB/s eta 0:00:02\n",
      "   --------------------------- ------------ 10.7/15.8 MB 5.6 MB/s eta 0:00:01\n",
      "   ----------------------------- ---------- 11.8/15.8 MB 5.6 MB/s eta 0:00:01\n",
      "   --------------------------------- ------ 13.4/15.8 MB 5.6 MB/s eta 0:00:01\n",
      "   ------------------------------------ --- 14.4/15.8 MB 5.7 MB/s eta 0:00:01\n",
      "   ---------------------------------------  15.7/15.8 MB 5.7 MB/s eta 0:00:01\n",
      "   ---------------------------------------- 15.8/15.8 MB 5.5 MB/s eta 0:00:00\n",
      "Installing collected packages: numpy\n",
      "  Attempting uninstall: numpy\n",
      "    Found existing installation: numpy 2.0.2\n",
      "    Uninstalling numpy-2.0.2:\n",
      "      Successfully uninstalled numpy-2.0.2\n",
      "Successfully installed numpy-1.26.4\n"
     ]
    },
    {
     "name": "stderr",
     "output_type": "stream",
     "text": [
      "ERROR: pip's dependency resolver does not currently take into account all the packages that are installed. This behaviour is the source of the following dependency conflicts.\n",
      "daal4py 2021.5.0 requires daal==2021.4.0, which is not installed.\n",
      "datasets 3.2.0 requires dill<0.3.9,>=0.3.0, but you have dill 0.3.9 which is incompatible.\n",
      "datasets 3.2.0 requires multiprocess<0.70.17, but you have multiprocess 0.70.17 which is incompatible.\n",
      "glueviz 1.0.0 requires glue-vispy-viewers>=1.0.0, but you have glue-vispy-viewers 0.12.2 which is incompatible.\n",
      "gradio 4.36.1 requires urllib3~=2.0, but you have urllib3 1.26.20 which is incompatible.\n",
      "mediapipe 0.9.0 requires protobuf<4,>=3.11, but you have protobuf 5.29.3 which is incompatible.\n",
      "numba 0.55.1 requires numpy<1.22,>=1.18, but you have numpy 1.26.4 which is incompatible.\n",
      "scipy 1.7.3 requires numpy<1.23.0,>=1.16.5, but you have numpy 1.26.4 which is incompatible.\n",
      "spacy 3.7.2 requires typer<0.10.0,>=0.3.0, but you have typer 0.12.3 which is incompatible.\n"
     ]
    }
   ],
   "source": [
    "!pip install boto3 sagemaker"
   ]
  },
  {
   "cell_type": "markdown",
   "id": "a118ad29",
   "metadata": {},
   "source": [
    "Dependencies"
   ]
  },
  {
   "cell_type": "code",
   "execution_count": null,
   "id": "ad01abdc-f053-4c9a-97f7-c2c9a534bf51",
   "metadata": {},
   "outputs": [
    {
     "name": "stderr",
     "output_type": "stream",
     "text": [
      "c:\\Users\\Chinnnolla Koteshwar\\Downloads\\sage_maker\\sage\\lib\\site-packages\\pydantic\\_internal\\_fields.py:192: UserWarning: Field name \"json\" in \"MonitoringDatasetFormat\" shadows an attribute in parent \"Base\"\n",
      "  warnings.warn(\n"
     ]
    },
    {
     "data": {
      "text/html": [
       "<pre style=\"white-space:pre;overflow-x:auto;line-height:normal;font-family:Menlo,'DejaVu Sans Mono',consolas,'Courier New',monospace\"><span style=\"color: #7fbfbf; text-decoration-color: #7fbfbf\">[01/29/25 20:49:07] </span><span style=\"color: #0069ff; text-decoration-color: #0069ff; font-weight: bold\">INFO    </span> Found credentials in shared credentials file: ~<span style=\"color: #e100e1; text-decoration-color: #e100e1\">/.aws/credentials</span>   <span style=\"color: #7f7f7f; text-decoration-color: #7f7f7f\">credentials.py:1278</span>\n",
       "</pre>\n"
      ],
      "text/plain": [
       "\u001b[2;36m[01/29/25 20:49:07]\u001b[0m\u001b[2;36m \u001b[0m\u001b[1;38;2;0;105;255mINFO    \u001b[0m Found credentials in shared credentials file: ~\u001b[38;2;225;0;225m/.aws/\u001b[0m\u001b[38;2;225;0;225mcredentials\u001b[0m   \u001b[2mcredentials.py\u001b[0m\u001b[2m:\u001b[0m\u001b[2m1278\u001b[0m\n"
      ]
     },
     "metadata": {},
     "output_type": "display_data"
    },
    {
     "name": "stdout",
     "output_type": "stream",
     "text": [
      "sagemaker.config INFO - Not applying SDK defaults from location: C:\\ProgramData\\sagemaker\\sagemaker\\config.yaml\n",
      "sagemaker.config INFO - Not applying SDK defaults from location: C:\\Users\\Chinnnolla Koteshwar\\AppData\\Local\\sagemaker\\sagemaker\\config.yaml\n"
     ]
    }
   ],
   "source": [
    "import sagemaker\n",
    "import boto3\n",
    "import pandas as pd\n",
    "import numpy as np\n",
    "import os\n",
    "import logging\n",
    "from datetime import datetime\n",
    "import sagemaker\n",
    "from sagemaker.session import TrainingInput\n",
    "from sagemaker import image_uris\n",
    "from sagemaker import hyperparameters\n",
    "from sagemaker.sklearn.estimator import SKLearn\n",
    "from sagemaker.serializers import CSVSerializer"
   ]
  },
  {
   "cell_type": "code",
   "execution_count": 3,
   "id": "19244bb1-a99e-4ce0-9064-14c37191fbb0",
   "metadata": {},
   "outputs": [
    {
     "name": "stdout",
     "output_type": "stream",
     "text": [
      "us-east-1\n"
     ]
    }
   ],
   "source": [
    "bucket_name=\"textdemand\"\n",
    "my_region=boto3.session.Session().region_name\n",
    "print(my_region)"
   ]
  },
  {
   "cell_type": "code",
   "execution_count": 7,
   "id": "a4443e4f-64b7-4bd1-bfba-10e8f7818a43",
   "metadata": {},
   "outputs": [
    {
     "name": "stdout",
     "output_type": "stream",
     "text": [
      "s\n"
     ]
    }
   ],
   "source": [
    "s3=boto3.resource('s3')\n",
    "if my_region==\"us-east-1\":\n",
    "    s3.create_bucket(Bucket=bucket_name)\n",
    "    print('s')"
   ]
  },
  {
   "cell_type": "code",
   "execution_count": 46,
   "id": "21942a4a-8ec3-4195-a0ba-1baf004f72c2",
   "metadata": {},
   "outputs": [],
   "source": [
    "# role_arn = sagemaker.get_execution_role()\n",
    "import os\n",
    "role_arn=os.getenv(\"roel_arn\")"
   ]
  },
  {
   "cell_type": "code",
   "execution_count": 4,
   "id": "2c6ff3c2",
   "metadata": {},
   "outputs": [],
   "source": [
    "data=pd.read_csv('prod_.csv')"
   ]
  },
  {
   "cell_type": "code",
   "execution_count": 5,
   "id": "c5045c86-f14a-41f0-aa6e-e3c9fd8d606c",
   "metadata": {},
   "outputs": [],
   "source": [
    "from sklearn.model_selection import train_test_split\n",
    "train_df,test_df= train_test_split(data, test_size = 0.175, random_state=0)"
   ]
  },
  {
   "cell_type": "code",
   "execution_count": 13,
   "id": "c0dc500f-09a0-40e8-b4df-3ca080515f03",
   "metadata": {},
   "outputs": [],
   "source": [
    "train_df.to_csv('train.csv', index=False, header=None)\n",
    "test_df.to_csv('test.csv',index=False,header=None)"
   ]
  },
  {
   "cell_type": "code",
   "execution_count": 47,
   "id": "af39ecd7-3a72-4a08-9cef-51b0461d8d55",
   "metadata": {},
   "outputs": [
    {
     "name": "stdout",
     "output_type": "stream",
     "text": [
      "upload: ./train.csv to s3://textdemand/prodDemand/data/train.csv\n",
      "upload: ./test.csv to s3://textdemand/prodDemand/data/test.csv \n"
     ]
    }
   ],
   "source": [
    "!aws s3 cp train.csv s3://textdemand/prodDemand/data/\n",
    "!aws s3 cp test.csv s3://textdemand/prodDemand/data/"
   ]
  },
  {
   "cell_type": "code",
   "execution_count": 9,
   "id": "f5ebeee3-1e20-4f9f-ad37-81631879c85f",
   "metadata": {},
   "outputs": [
    {
     "data": {
      "text/html": [
       "<div>\n",
       "<style scoped>\n",
       "    .dataframe tbody tr th:only-of-type {\n",
       "        vertical-align: middle;\n",
       "    }\n",
       "\n",
       "    .dataframe tbody tr th {\n",
       "        vertical-align: top;\n",
       "    }\n",
       "\n",
       "    .dataframe thead th {\n",
       "        text-align: right;\n",
       "    }\n",
       "</style>\n",
       "<table border=\"1\" class=\"dataframe\">\n",
       "  <thead>\n",
       "    <tr style=\"text-align: right;\">\n",
       "      <th></th>\n",
       "      <th>product</th>\n",
       "      <th>year</th>\n",
       "      <th>expiri duretion in years</th>\n",
       "      <th>month</th>\n",
       "      <th>no. of new products bought</th>\n",
       "      <th>no of products left for selling</th>\n",
       "      <th>no. of products sold</th>\n",
       "      <th>prodects left</th>\n",
       "      <th>no of products to be bought</th>\n",
       "      <th>demand %</th>\n",
       "    </tr>\n",
       "  </thead>\n",
       "  <tbody>\n",
       "    <tr>\n",
       "      <th>97</th>\n",
       "      <td>suger</td>\n",
       "      <td>2020</td>\n",
       "      <td>2.0</td>\n",
       "      <td>2</td>\n",
       "      <td>350</td>\n",
       "      <td>372</td>\n",
       "      <td>300</td>\n",
       "      <td>22</td>\n",
       "      <td>NaN</td>\n",
       "      <td>85.714286</td>\n",
       "    </tr>\n",
       "    <tr>\n",
       "      <th>143</th>\n",
       "      <td>santoor</td>\n",
       "      <td>2020</td>\n",
       "      <td>1.0</td>\n",
       "      <td>12</td>\n",
       "      <td>140</td>\n",
       "      <td>155</td>\n",
       "      <td>150</td>\n",
       "      <td>15</td>\n",
       "      <td>NaN</td>\n",
       "      <td>107.142857</td>\n",
       "    </tr>\n",
       "    <tr>\n",
       "      <th>152</th>\n",
       "      <td>colgate</td>\n",
       "      <td>2021</td>\n",
       "      <td>2.0</td>\n",
       "      <td>9</td>\n",
       "      <td>100</td>\n",
       "      <td>121</td>\n",
       "      <td>112</td>\n",
       "      <td>21</td>\n",
       "      <td>91.0</td>\n",
       "      <td>112.000000</td>\n",
       "    </tr>\n",
       "    <tr>\n",
       "      <th>106</th>\n",
       "      <td>suger</td>\n",
       "      <td>2020</td>\n",
       "      <td>2.0</td>\n",
       "      <td>11</td>\n",
       "      <td>350</td>\n",
       "      <td>362</td>\n",
       "      <td>350</td>\n",
       "      <td>12</td>\n",
       "      <td>NaN</td>\n",
       "      <td>100.000000</td>\n",
       "    </tr>\n",
       "    <tr>\n",
       "      <th>201</th>\n",
       "      <td>life boy soap</td>\n",
       "      <td>2021</td>\n",
       "      <td>1.0</td>\n",
       "      <td>10</td>\n",
       "      <td>110</td>\n",
       "      <td>127</td>\n",
       "      <td>117</td>\n",
       "      <td>17</td>\n",
       "      <td>NaN</td>\n",
       "      <td>106.363636</td>\n",
       "    </tr>\n",
       "    <tr>\n",
       "      <th>...</th>\n",
       "      <td>...</td>\n",
       "      <td>...</td>\n",
       "      <td>...</td>\n",
       "      <td>...</td>\n",
       "      <td>...</td>\n",
       "      <td>...</td>\n",
       "      <td>...</td>\n",
       "      <td>...</td>\n",
       "      <td>...</td>\n",
       "      <td>...</td>\n",
       "    </tr>\n",
       "    <tr>\n",
       "      <th>67</th>\n",
       "      <td>santoor</td>\n",
       "      <td>2019</td>\n",
       "      <td>1.0</td>\n",
       "      <td>8</td>\n",
       "      <td>100</td>\n",
       "      <td>111</td>\n",
       "      <td>106</td>\n",
       "      <td>11</td>\n",
       "      <td>NaN</td>\n",
       "      <td>106.000000</td>\n",
       "    </tr>\n",
       "    <tr>\n",
       "      <th>192</th>\n",
       "      <td>life boy soap</td>\n",
       "      <td>2021</td>\n",
       "      <td>1.0</td>\n",
       "      <td>1</td>\n",
       "      <td>100</td>\n",
       "      <td>104</td>\n",
       "      <td>95</td>\n",
       "      <td>4</td>\n",
       "      <td>NaN</td>\n",
       "      <td>95.000000</td>\n",
       "    </tr>\n",
       "    <tr>\n",
       "      <th>117</th>\n",
       "      <td>freedom sunflower oil</td>\n",
       "      <td>2020</td>\n",
       "      <td>0.6</td>\n",
       "      <td>10</td>\n",
       "      <td>60</td>\n",
       "      <td>60</td>\n",
       "      <td>55</td>\n",
       "      <td>0</td>\n",
       "      <td>NaN</td>\n",
       "      <td>91.666667</td>\n",
       "    </tr>\n",
       "    <tr>\n",
       "      <th>47</th>\n",
       "      <td>freedom sunflower oil</td>\n",
       "      <td>2019</td>\n",
       "      <td>0.6</td>\n",
       "      <td>12</td>\n",
       "      <td>50</td>\n",
       "      <td>63</td>\n",
       "      <td>58</td>\n",
       "      <td>13</td>\n",
       "      <td>NaN</td>\n",
       "      <td>116.000000</td>\n",
       "    </tr>\n",
       "    <tr>\n",
       "      <th>172</th>\n",
       "      <td>suger</td>\n",
       "      <td>2021</td>\n",
       "      <td>2.0</td>\n",
       "      <td>5</td>\n",
       "      <td>350</td>\n",
       "      <td>415</td>\n",
       "      <td>398</td>\n",
       "      <td>65</td>\n",
       "      <td>NaN</td>\n",
       "      <td>113.714286</td>\n",
       "    </tr>\n",
       "  </tbody>\n",
       "</table>\n",
       "<p>184 rows × 10 columns</p>\n",
       "</div>"
      ],
      "text/plain": [
       "                   product  year  expiri duretion in years  month  \\\n",
       "97                   suger  2020                       2.0      2   \n",
       "143                santoor  2020                       1.0     12   \n",
       "152                colgate  2021                       2.0      9   \n",
       "106                  suger  2020                       2.0     11   \n",
       "201          life boy soap  2021                       1.0     10   \n",
       "..                     ...   ...                       ...    ...   \n",
       "67                 santoor  2019                       1.0      8   \n",
       "192          life boy soap  2021                       1.0      1   \n",
       "117  freedom sunflower oil  2020                       0.6     10   \n",
       "47   freedom sunflower oil  2019                       0.6     12   \n",
       "172                  suger  2021                       2.0      5   \n",
       "\n",
       "     no. of new products bought    no of products left for selling  \\\n",
       "97                            350                              372   \n",
       "143                           140                              155   \n",
       "152                           100                              121   \n",
       "106                           350                              362   \n",
       "201                           110                              127   \n",
       "..                            ...                              ...   \n",
       "67                            100                              111   \n",
       "192                           100                              104   \n",
       "117                            60                               60   \n",
       "47                             50                               63   \n",
       "172                           350                              415   \n",
       "\n",
       "     no. of products sold  prodects left  no of products to be bought  \\\n",
       "97                    300             22                          NaN   \n",
       "143                   150             15                          NaN   \n",
       "152                   112             21                         91.0   \n",
       "106                   350             12                          NaN   \n",
       "201                   117             17                          NaN   \n",
       "..                    ...            ...                          ...   \n",
       "67                    106             11                          NaN   \n",
       "192                    95              4                          NaN   \n",
       "117                    55              0                          NaN   \n",
       "47                     58             13                          NaN   \n",
       "172                   398             65                          NaN   \n",
       "\n",
       "       demand %  \n",
       "97    85.714286  \n",
       "143  107.142857  \n",
       "152  112.000000  \n",
       "106  100.000000  \n",
       "201  106.363636  \n",
       "..          ...  \n",
       "67   106.000000  \n",
       "192   95.000000  \n",
       "117   91.666667  \n",
       "47   116.000000  \n",
       "172  113.714286  \n",
       "\n",
       "[184 rows x 10 columns]"
      ]
     },
     "execution_count": 9,
     "metadata": {},
     "output_type": "execute_result"
    }
   ],
   "source": [
    "train_df"
   ]
  },
  {
   "cell_type": "code",
   "execution_count": 65,
   "id": "2f5a7aa9-c62f-47f4-a197-65d8473ead5a",
   "metadata": {},
   "outputs": [],
   "source": [
    "bucket_name=\"textdemand\"\n",
    "training_data='train.csv'\n",
    "testing_data='test.csv'\n",
    "data_path='prod_.csv'\n",
    "proj_name=\"prodDemand\"\n",
    "data_file=\"data\"\n",
    "training_path=f\"s3://{bucket_name}/{proj_name}/{data_file}/{training_data}\"\n",
    "testing_path=f\"s3://{bucket_name}/{proj_name}/{data_file}/{testing_data}\"\n",
    "data_path=f\"s3://{bucket_name}/{proj_name}/{data_file}/{data_path}\"\n"
   ]
  },
  {
   "cell_type": "code",
   "execution_count": 12,
   "id": "29e079fa-a6ff-4841-9735-a7b09a1bc20b",
   "metadata": {},
   "outputs": [
    {
     "name": "stdout",
     "output_type": "stream",
     "text": [
      "s3://textdemand/prodDemand/data/train.csv\n"
     ]
    }
   ],
   "source": [
    "print(training_path)"
   ]
  },
  {
   "cell_type": "code",
   "execution_count": 66,
   "id": "8061dad3-7038-4ac6-83fa-c1ad063e51f9",
   "metadata": {},
   "outputs": [],
   "source": [
    "train_in=TrainingInput(training_path, content_type=\"csv\")\n",
    "test_in=TrainingInput(testing_path, content_type=\"csv\")\n",
    "data_in=TrainingInput(data_path, content_type=\"csv\")"
   ]
  },
  {
   "cell_type": "code",
   "execution_count": 27,
   "id": "59fb37f7-1563-4c72-9e23-627137e49c6b",
   "metadata": {},
   "outputs": [
    {
     "name": "stdout",
     "output_type": "stream",
     "text": [
      "<sagemaker.inputs.TrainingInput object at 0x000002545649F280>\n"
     ]
    }
   ],
   "source": [
    "print(test_in)"
   ]
  },
  {
   "cell_type": "code",
   "execution_count": 28,
   "id": "67a19788-de8c-47c9-96fb-a3854be209cc",
   "metadata": {},
   "outputs": [
    {
     "name": "stdout",
     "output_type": "stream",
     "text": [
      "s3://textdemand/prodDemand/model\n"
     ]
    }
   ],
   "source": [
    "model_op = \"s3://{}/{}/{}\".format(bucket_name, proj_name, \"model\")\n",
    "print(model_op)"
   ]
  },
  {
   "cell_type": "code",
   "execution_count": 56,
   "id": "d06342ef",
   "metadata": {},
   "outputs": [],
   "source": [
    "import os\n",
    "role_arn=os.getenv(\"role_arn\")"
   ]
  },
  {
   "cell_type": "code",
   "execution_count": 129,
   "id": "93fca280-f77f-498f-9a13-a70d7cac382b",
   "metadata": {},
   "outputs": [],
   "source": [
    "training_job=\"demandpred\"\n",
    "svc = SKLearn(\n",
    "    entry_point=\"train.py\",\n",
    "    role=role_arn,\n",
    "    base_job_name=training_job,\n",
    "    instance_count=1,\n",
    "    instance_type=\"ml.m4.xlarge\",\n",
    "    model_dir=model_op,\n",
    "    hyperparameters={\"C\":10, \"gamma\":1},\n",
    "    sagemaker_session=sagemaker.Session(),\n",
    "    framework_version='0.23-1',\n",
    "    py_version='py3'\n",
    ")"
   ]
  },
  {
   "cell_type": "code",
   "execution_count": 158,
   "id": "0ae0c36a-e322-4297-93f6-b34d98c832e0",
   "metadata": {},
   "outputs": [
    {
     "name": "stdout",
     "output_type": "stream",
     "text": [
      "demandpred2025-01-29-19-28-01\n"
     ]
    }
   ],
   "source": [
    "job_name = training_job + datetime.today().strftime(\"%Y-%m-%d-%H-%M-%S\")\n",
    "print(job_name)"
   ]
  },
  {
   "cell_type": "code",
   "execution_count": 159,
   "id": "0394e66a-ab01-4e35-8546-275e143f5d61",
   "metadata": {},
   "outputs": [
    {
     "data": {
      "text/html": [
       "<pre style=\"white-space:pre;overflow-x:auto;line-height:normal;font-family:Menlo,'DejaVu Sans Mono',consolas,'Courier New',monospace\"><span style=\"color: #7fbfbf; text-decoration-color: #7fbfbf\">[01/29/25 19:28:02] </span><span style=\"color: #0069ff; text-decoration-color: #0069ff; font-weight: bold\">INFO    </span> SageMaker Python SDK will collect telemetry to help us better  <span style=\"color: #7f7f7f; text-decoration-color: #7f7f7f\">telemetry_logging.py:90</span>\n",
       "<span style=\"color: #7fbfbf; text-decoration-color: #7fbfbf\">                    </span>         understand our user's needs, diagnose issues, and deliver      <span style=\"color: #7f7f7f; text-decoration-color: #7f7f7f\">                       </span>\n",
       "<span style=\"color: #7fbfbf; text-decoration-color: #7fbfbf\">                    </span>         additional features.                                           <span style=\"color: #7f7f7f; text-decoration-color: #7f7f7f\">                       </span>\n",
       "<span style=\"color: #7fbfbf; text-decoration-color: #7fbfbf\">                    </span>         To opt out of telemetry, please disable via TelemetryOptOut    <span style=\"color: #7f7f7f; text-decoration-color: #7f7f7f\">                       </span>\n",
       "<span style=\"color: #7fbfbf; text-decoration-color: #7fbfbf\">                    </span>         parameter in SDK defaults config. For more information, refer  <span style=\"color: #7f7f7f; text-decoration-color: #7f7f7f\">                       </span>\n",
       "<span style=\"color: #7fbfbf; text-decoration-color: #7fbfbf\">                    </span>         to                                                             <span style=\"color: #7f7f7f; text-decoration-color: #7f7f7f\">                       </span>\n",
       "<span style=\"color: #7fbfbf; text-decoration-color: #7fbfbf\">                    </span>         <span style=\"color: #0069ff; text-decoration-color: #0069ff; text-decoration: underline\">https://sagemaker.readthedocs.io/en/stable/overview.html#confi</span> <span style=\"color: #7f7f7f; text-decoration-color: #7f7f7f\">                       </span>\n",
       "<span style=\"color: #7fbfbf; text-decoration-color: #7fbfbf\">                    </span>         <span style=\"color: #0069ff; text-decoration-color: #0069ff; text-decoration: underline\">guring-and-using-defaults-with-the-sagemaker-python-sdk.</span>       <span style=\"color: #7f7f7f; text-decoration-color: #7f7f7f\">                       </span>\n",
       "</pre>\n"
      ],
      "text/plain": [
       "\u001b[2;36m[01/29/25 19:28:02]\u001b[0m\u001b[2;36m \u001b[0m\u001b[1;38;2;0;105;255mINFO    \u001b[0m SageMaker Python SDK will collect telemetry to help us better  \u001b[2mtelemetry_logging.py\u001b[0m\u001b[2m:\u001b[0m\u001b[2m90\u001b[0m\n",
       "\u001b[2;36m                    \u001b[0m         understand our user's needs, diagnose issues, and deliver      \u001b[2m                       \u001b[0m\n",
       "\u001b[2;36m                    \u001b[0m         additional features.                                           \u001b[2m                       \u001b[0m\n",
       "\u001b[2;36m                    \u001b[0m         To opt out of telemetry, please disable via TelemetryOptOut    \u001b[2m                       \u001b[0m\n",
       "\u001b[2;36m                    \u001b[0m         parameter in SDK defaults config. For more information, refer  \u001b[2m                       \u001b[0m\n",
       "\u001b[2;36m                    \u001b[0m         to                                                             \u001b[2m                       \u001b[0m\n",
       "\u001b[2;36m                    \u001b[0m         \u001b[4;38;2;0;105;255mhttps://sagemaker.readthedocs.io/en/stable/overview.html#confi\u001b[0m \u001b[2m                       \u001b[0m\n",
       "\u001b[2;36m                    \u001b[0m         \u001b[4;38;2;0;105;255mguring-and-using-defaults-with-the-sagemaker-python-sdk.\u001b[0m       \u001b[2m                       \u001b[0m\n"
      ]
     },
     "metadata": {},
     "output_type": "display_data"
    },
    {
     "data": {
      "text/html": [
       "<pre style=\"white-space:pre;overflow-x:auto;line-height:normal;font-family:Menlo,'DejaVu Sans Mono',consolas,'Courier New',monospace\"><span style=\"color: #7fbfbf; text-decoration-color: #7fbfbf\">[01/29/25 19:28:04] </span><span style=\"color: #0069ff; text-decoration-color: #0069ff; font-weight: bold\">INFO    </span> Creating training-job with name: demandpred2025-01-29-19-28-01         <span style=\"color: #7f7f7f; text-decoration-color: #7f7f7f\">session.py:1042</span>\n",
       "</pre>\n"
      ],
      "text/plain": [
       "\u001b[2;36m[01/29/25 19:28:04]\u001b[0m\u001b[2;36m \u001b[0m\u001b[1;38;2;0;105;255mINFO    \u001b[0m Creating training-job with name: demandpred2025-01-29-19-28-01         \u001b[2msession.py\u001b[0m\u001b[2m:\u001b[0m\u001b[2m1042\u001b[0m\n"
      ]
     },
     "metadata": {},
     "output_type": "display_data"
    },
    {
     "name": "stdout",
     "output_type": "stream",
     "text": [
      "2025-01-29 13:58:06 Starting - Starting the training job...\n",
      "2025-01-29 13:58:21 Starting - Preparing the instances for training...\n",
      "2025-01-29 13:59:12 Downloading - Downloading the training image...\n",
      "2025-01-29 13:59:53 Training - Training image download completed. Training in progress...2025-01-29 14:00:04,901 sagemaker-containers INFO     Imported framework sagemaker_sklearn_container.training\n",
      "2025-01-29 14:00:04,904 sagemaker-training-toolkit INFO     No GPUs detected (normal if no gpus installed)\n",
      "2025-01-29 14:00:04,953 sagemaker_sklearn_container.training INFO     Invoking user training script.\n",
      "2025-01-29 14:00:05,152 sagemaker-training-toolkit INFO     No GPUs detected (normal if no gpus installed)\n",
      "2025-01-29 14:00:05,166 sagemaker-training-toolkit INFO     No GPUs detected (normal if no gpus installed)\n",
      "2025-01-29 14:00:05,180 sagemaker-training-toolkit INFO     No GPUs detected (normal if no gpus installed)\n",
      "2025-01-29 14:00:05,191 sagemaker-training-toolkit INFO     Invoking user script\n",
      "Training Env:\n",
      "{\n",
      "    \"additional_framework_parameters\": {},\n",
      "    \"channel_input_dirs\": {\n",
      "        \"train\": \"/opt/ml/input/data/train\"\n",
      "    },\n",
      "    \"current_host\": \"algo-1\",\n",
      "    \"framework_module\": \"sagemaker_sklearn_container.training:main\",\n",
      "    \"hosts\": [\n",
      "        \"algo-1\"\n",
      "    ],\n",
      "    \"hyperparameters\": {\n",
      "        \"C\": 10,\n",
      "        \"gamma\": 1\n",
      "    },\n",
      "    \"input_config_dir\": \"/opt/ml/input/config\",\n",
      "    \"input_data_config\": {\n",
      "        \"train\": {\n",
      "            \"ContentType\": \"csv\",\n",
      "            \"TrainingInputMode\": \"File\",\n",
      "            \"S3DistributionType\": \"FullyReplicated\",\n",
      "            \"RecordWrapperType\": \"None\"\n",
      "        }\n",
      "    },\n",
      "    \"input_dir\": \"/opt/ml/input\",\n",
      "    \"is_master\": true,\n",
      "    \"job_name\": \"demandpred2025-01-29-19-28-01\",\n",
      "    \"log_level\": 20,\n",
      "    \"master_hostname\": \"algo-1\",\n",
      "    \"model_dir\": \"/opt/ml/model\",\n",
      "    \"module_dir\": \"s3://sagemaker-us-east-1-533267219860/demandpred2025-01-29-19-28-01/source/sourcedir.tar.gz\",\n",
      "    \"module_name\": \"train\",\n",
      "    \"network_interface_name\": \"eth0\",\n",
      "    \"num_cpus\": 4,\n",
      "    \"num_gpus\": 0,\n",
      "    \"output_data_dir\": \"/opt/ml/output/data\",\n",
      "    \"output_dir\": \"/opt/ml/output\",\n",
      "    \"output_intermediate_dir\": \"/opt/ml/output/intermediate\",\n",
      "    \"resource_config\": {\n",
      "        \"current_host\": \"algo-1\",\n",
      "        \"current_instance_type\": \"ml.m4.xlarge\",\n",
      "        \"current_group_name\": \"homogeneousCluster\",\n",
      "        \"hosts\": [\n",
      "            \"algo-1\"\n",
      "        ],\n",
      "        \"instance_groups\": [\n",
      "            {\n",
      "                \"instance_group_name\": \"homogeneousCluster\",\n",
      "                \"instance_type\": \"ml.m4.xlarge\",\n",
      "                \"hosts\": [\n",
      "                    \"algo-1\"\n",
      "                ]\n",
      "            }\n",
      "        ],\n",
      "        \"network_interface_name\": \"eth0\"\n",
      "    },\n",
      "    \"user_entry_point\": \"train.py\"\n",
      "}\n",
      "Environment variables:\n",
      "SM_HOSTS=[\"algo-1\"]\n",
      "SM_NETWORK_INTERFACE_NAME=eth0\n",
      "SM_HPS={\"C\":10,\"gamma\":1}\n",
      "SM_USER_ENTRY_POINT=train.py\n",
      "SM_FRAMEWORK_PARAMS={}\n",
      "SM_RESOURCE_CONFIG={\"current_group_name\":\"homogeneousCluster\",\"current_host\":\"algo-1\",\"current_instance_type\":\"ml.m4.xlarge\",\"hosts\":[\"algo-1\"],\"instance_groups\":[{\"hosts\":[\"algo-1\"],\"instance_group_name\":\"homogeneousCluster\",\"instance_type\":\"ml.m4.xlarge\"}],\"network_interface_name\":\"eth0\"}\n",
      "SM_INPUT_DATA_CONFIG={\"train\":{\"ContentType\":\"csv\",\"RecordWrapperType\":\"None\",\"S3DistributionType\":\"FullyReplicated\",\"TrainingInputMode\":\"File\"}}\n",
      "SM_OUTPUT_DATA_DIR=/opt/ml/output/data\n",
      "SM_CHANNELS=[\"train\"]\n",
      "SM_CURRENT_HOST=algo-1\n",
      "SM_MODULE_NAME=train\n",
      "SM_LOG_LEVEL=20\n",
      "SM_FRAMEWORK_MODULE=sagemaker_sklearn_container.training:main\n",
      "SM_INPUT_DIR=/opt/ml/input\n",
      "SM_INPUT_CONFIG_DIR=/opt/ml/input/config\n",
      "SM_OUTPUT_DIR=/opt/ml/output\n",
      "SM_NUM_CPUS=4\n",
      "SM_NUM_GPUS=0\n",
      "SM_MODEL_DIR=/opt/ml/model\n",
      "SM_MODULE_DIR=s3://sagemaker-us-east-1-533267219860/demandpred2025-01-29-19-28-01/source/sourcedir.tar.gz\n",
      "SM_TRAINING_ENV={\"additional_framework_parameters\":{},\"channel_input_dirs\":{\"train\":\"/opt/ml/input/data/train\"},\"current_host\":\"algo-1\",\"framework_module\":\"sagemaker_sklearn_container.training:main\",\"hosts\":[\"algo-1\"],\"hyperparameters\":{\"C\":10,\"gamma\":1},\"input_config_dir\":\"/opt/ml/input/config\",\"input_data_config\":{\"train\":{\"ContentType\":\"csv\",\"RecordWrapperType\":\"None\",\"S3DistributionType\":\"FullyReplicated\",\"TrainingInputMode\":\"File\"}},\"input_dir\":\"/opt/ml/input\",\"is_master\":true,\"job_name\":\"demandpred2025-01-29-19-28-01\",\"log_level\":20,\"master_hostname\":\"algo-1\",\"model_dir\":\"/opt/ml/model\",\"module_dir\":\"s3://sagemaker-us-east-1-533267219860/demandpred2025-01-29-19-28-01/source/sourcedir.tar.gz\",\"module_name\":\"train\",\"network_interface_name\":\"eth0\",\"num_cpus\":4,\"num_gpus\":0,\"output_data_dir\":\"/opt/ml/output/data\",\"output_dir\":\"/opt/ml/output\",\"output_intermediate_dir\":\"/opt/ml/output/intermediate\",\"resource_config\":{\"current_group_name\":\"homogeneousCluster\",\"current_host\":\"algo-1\",\"current_instance_type\":\"ml.m4.xlarge\",\"hosts\":[\"algo-1\"],\"instance_groups\":[{\"hosts\":[\"algo-1\"],\"instance_group_name\":\"homogeneousCluster\",\"instance_type\":\"ml.m4.xlarge\"}],\"network_interface_name\":\"eth0\"},\"user_entry_point\":\"train.py\"}\n",
      "SM_USER_ARGS=[\"-C\",\"10\",\"--gamma\",\"1\"]\n",
      "SM_OUTPUT_INTERMEDIATE_DIR=/opt/ml/output/intermediate\n",
      "SM_CHANNEL_TRAIN=/opt/ml/input/data/train\n",
      "SM_HP_C=10\n",
      "SM_HP_GAMMA=1\n",
      "PYTHONPATH=/opt/ml/code:/miniconda3/bin:/miniconda3/lib/python37.zip:/miniconda3/lib/python3.7:/miniconda3/lib/python3.7/lib-dynload:/miniconda3/lib/python3.7/site-packages\n",
      "Invoking script with the following command:\n",
      "/miniconda3/bin/python train.py -C 10 --gamma 1\n",
      "extracting arguments\n",
      "----------------------------------------------------------------------------------------------------\n",
      "reading data\n",
      "----------------------------------------------------------------------------------------------------\n",
      "         0     1  2  3   4   5   6   7   8            9\n",
      "1  colgate  2019  2  1  60  60  46   0  46  76.66666667\n",
      "2  colgate  2019  2  2  32  46  38  14  24       118.75\n",
      "3  colgate  2019  2  3  40  62  47  22  25        117.5\n",
      "4  colgate  2019  2  4  36  51  40  15  25  111.1111111\n",
      "5  colgate  2019  2  5  56  67  58  11  47  103.5714286\n",
      "building training and testing datasets\n",
      "training model\n",
      "/miniconda3/lib/python3.7/site-packages/sklearn/utils/validation.py:72: DataConversionWarning: A column-vector y was passed when a 1d array was expected. Please change the shape of y to (n_samples, ), for example using ravel().\n",
      "  return f(**kwargs)\n",
      "model persisted at /opt/ml/model/model.joblib\n",
      "2025-01-29 14:00:06,263 sagemaker-containers INFO     Reporting training SUCCESS\n",
      "\n",
      "2025-01-29 14:00:26 Uploading - Uploading generated training model\n",
      "2025-01-29 14:00:26 Completed - Training job completed\n",
      "Training seconds: 94\n",
      "Billable seconds: 94\n"
     ]
    }
   ],
   "source": [
    "svc.fit({\"train\": data_in}, wait=True, job_name=job_name)"
   ]
  },
  {
   "cell_type": "code",
   "execution_count": 161,
   "id": "c5737c7d-d94a-4de0-b9dd-40eaf4aea855",
   "metadata": {
    "scrolled": true
   },
   "outputs": [
    {
     "data": {
      "text/html": [
       "<pre style=\"white-space:pre;overflow-x:auto;line-height:normal;font-family:Menlo,'DejaVu Sans Mono',consolas,'Courier New',monospace\"><span style=\"color: #7fbfbf; text-decoration-color: #7fbfbf\">[01/29/25 19:30:46] </span><span style=\"color: #0069ff; text-decoration-color: #0069ff; font-weight: bold\">INFO    </span> Creating model with name: demandpred-<span style=\"color: #008080; text-decoration-color: #008080; font-weight: bold\">2025</span>-01-29-14-00-46-328           <span style=\"color: #7f7f7f; text-decoration-color: #7f7f7f\">session.py:4094</span>\n",
       "</pre>\n"
      ],
      "text/plain": [
       "\u001b[2;36m[01/29/25 19:30:46]\u001b[0m\u001b[2;36m \u001b[0m\u001b[1;38;2;0;105;255mINFO    \u001b[0m Creating model with name: demandpred-\u001b[1;36m2025\u001b[0m-01-29-14-00-46-328           \u001b[2msession.py\u001b[0m\u001b[2m:\u001b[0m\u001b[2m4094\u001b[0m\n"
      ]
     },
     "metadata": {},
     "output_type": "display_data"
    },
    {
     "data": {
      "text/html": [
       "<pre style=\"white-space:pre;overflow-x:auto;line-height:normal;font-family:Menlo,'DejaVu Sans Mono',consolas,'Courier New',monospace\"><span style=\"color: #7fbfbf; text-decoration-color: #7fbfbf\">[01/29/25 19:30:47] </span><span style=\"color: #0069ff; text-decoration-color: #0069ff; font-weight: bold\">INFO    </span> Creating endpoint-config with name demandpred-<span style=\"color: #008080; text-decoration-color: #008080; font-weight: bold\">2025</span>-01-29-14-00-46-328  <span style=\"color: #7f7f7f; text-decoration-color: #7f7f7f\">session.py:5889</span>\n",
       "</pre>\n"
      ],
      "text/plain": [
       "\u001b[2;36m[01/29/25 19:30:47]\u001b[0m\u001b[2;36m \u001b[0m\u001b[1;38;2;0;105;255mINFO    \u001b[0m Creating endpoint-config with name demandpred-\u001b[1;36m2025\u001b[0m-01-29-14-00-46-328  \u001b[2msession.py\u001b[0m\u001b[2m:\u001b[0m\u001b[2m5889\u001b[0m\n"
      ]
     },
     "metadata": {},
     "output_type": "display_data"
    },
    {
     "data": {
      "text/html": [
       "<pre style=\"white-space:pre;overflow-x:auto;line-height:normal;font-family:Menlo,'DejaVu Sans Mono',consolas,'Courier New',monospace\"><span style=\"color: #7fbfbf; text-decoration-color: #7fbfbf\">                    </span><span style=\"color: #0069ff; text-decoration-color: #0069ff; font-weight: bold\">INFO    </span> Creating endpoint with name demandpred-<span style=\"color: #008080; text-decoration-color: #008080; font-weight: bold\">2025</span>-01-29-14-00-46-328         <span style=\"color: #7f7f7f; text-decoration-color: #7f7f7f\">session.py:4711</span>\n",
       "</pre>\n"
      ],
      "text/plain": [
       "\u001b[2;36m                   \u001b[0m\u001b[2;36m \u001b[0m\u001b[1;38;2;0;105;255mINFO    \u001b[0m Creating endpoint with name demandpred-\u001b[1;36m2025\u001b[0m-01-29-14-00-46-328         \u001b[2msession.py\u001b[0m\u001b[2m:\u001b[0m\u001b[2m4711\u001b[0m\n"
      ]
     },
     "metadata": {},
     "output_type": "display_data"
    },
    {
     "name": "stdout",
     "output_type": "stream",
     "text": [
      "------------!"
     ]
    }
   ],
   "source": [
    "svc_trainer=svc.deploy( initial_instance_count=1,instance_type=\"ml.t2.medium\", serializer=CSVSerializer())"
   ]
  },
  {
   "cell_type": "code",
   "execution_count": 165,
   "id": "c74eb6fe-e1ff-479a-a3b1-788543140771",
   "metadata": {},
   "outputs": [
    {
     "name": "stdout",
     "output_type": "stream",
     "text": [
      "demandpred-2025-01-29-14-00-46-328\n"
     ]
    }
   ],
   "source": [
    "endpoint_name = svc_trainer.endpoint_name\n",
    "print(endpoint_name)"
   ]
  },
  {
   "cell_type": "code",
   "execution_count": 166,
   "id": "d72bb8d8-726d-452e-ac60-994c148bd827",
   "metadata": {},
   "outputs": [],
   "source": [
    "sgmkr_runtime = boto3.client(\"runtime.sagemaker\")"
   ]
  },
  {
   "cell_type": "code",
   "execution_count": 168,
   "id": "bdee0d6d-9f7c-4d19-ae04-2c3c44c29a32",
   "metadata": {},
   "outputs": [
    {
     "name": "stdout",
     "output_type": "stream",
     "text": [
      "{'ResponseMetadata': {'RequestId': '014788bf-dc7d-40bf-954a-249de0260071', 'HTTPStatusCode': 200, 'HTTPHeaders': {'x-amzn-requestid': '014788bf-dc7d-40bf-954a-249de0260071', 'x-amzn-invoked-production-variant': 'AllTraffic', 'date': 'Wed, 29 Jan 2025 14:09:05 GMT', 'content-type': 'text/html; charset=utf-8', 'content-length': '3', 'connection': 'keep-alive'}, 'RetryAttempts': 0}, 'ContentType': 'text/html; charset=utf-8', 'InvokedProductionVariant': 'AllTraffic', 'Body': <botocore.response.StreamingBody object at 0x000002545840D480>}\n"
     ]
    }
   ],
   "source": [
    "response = sgmkr_runtime.invoke_endpoint(\n",
    "    EndpointName=endpoint_name, ContentType=\"text/csv\", Body=\"santoor,2021,3\"\n",
    ")\n",
    "print(response)"
   ]
  },
  {
   "cell_type": "code",
   "execution_count": 169,
   "id": "3aa28c86-2b71-45f8-891d-81be089419d5",
   "metadata": {},
   "outputs": [
    {
     "data": {
      "text/plain": [
       "'150'"
      ]
     },
     "execution_count": 169,
     "metadata": {},
     "output_type": "execute_result"
    }
   ],
   "source": [
    "response['Body'].read().decode()"
   ]
  },
  {
   "cell_type": "code",
   "execution_count": 64,
   "id": "aa75e3c6-85a6-4fc3-bde7-8ae7df8e56fd",
   "metadata": {},
   "outputs": [],
   "source": [
    "text=\"2,2021,2\""
   ]
  },
  {
   "cell_type": "code",
   "execution_count": 171,
   "id": "76f45b0c",
   "metadata": {},
   "outputs": [],
   "source": [
    "s3_client=boto3.client('s3')"
   ]
  },
  {
   "cell_type": "code",
   "execution_count": 183,
   "id": "2b60f46a-21ac-4f82-b198-e5b4d9019775",
   "metadata": {},
   "outputs": [
    {
     "data": {
      "text/html": [
       "<pre style=\"white-space:pre;overflow-x:auto;line-height:normal;font-family:Menlo,'DejaVu Sans Mono',consolas,'Courier New',monospace\"><span style=\"color: #7fbfbf; text-decoration-color: #7fbfbf\">[01/29/25 19:44:42] </span><span style=\"color: #0069ff; text-decoration-color: #0069ff; font-weight: bold\">INFO    </span> Skipping checksum validation. Response did not contain one of the  <span style=\"color: #7f7f7f; text-decoration-color: #7f7f7f\">httpchecksum.py:481</span>\n",
       "<span style=\"color: #7fbfbf; text-decoration-color: #7fbfbf\">                    </span>         following algorithms: <span style=\"font-weight: bold\">[</span><span style=\"color: #008700; text-decoration-color: #008700\">'crc32'</span>, <span style=\"color: #008700; text-decoration-color: #008700\">'sha1'</span>, <span style=\"color: #008700; text-decoration-color: #008700\">'sha256'</span><span style=\"font-weight: bold\">]</span>.                 <span style=\"color: #7f7f7f; text-decoration-color: #7f7f7f\">                   </span>\n",
       "</pre>\n"
      ],
      "text/plain": [
       "\u001b[2;36m[01/29/25 19:44:42]\u001b[0m\u001b[2;36m \u001b[0m\u001b[1;38;2;0;105;255mINFO    \u001b[0m Skipping checksum validation. Response did not contain one of the  \u001b[2mhttpchecksum.py\u001b[0m\u001b[2m:\u001b[0m\u001b[2m481\u001b[0m\n",
       "\u001b[2;36m                    \u001b[0m         following algorithms: \u001b[1m[\u001b[0m\u001b[38;2;0;135;0m'crc32'\u001b[0m, \u001b[38;2;0;135;0m'sha1'\u001b[0m, \u001b[38;2;0;135;0m'sha256'\u001b[0m\u001b[1m]\u001b[0m.                 \u001b[2m                   \u001b[0m\n"
      ]
     },
     "metadata": {},
     "output_type": "display_data"
    }
   ],
   "source": [
    "obj = s3_client.get_object( Bucket=bucket_name, Key=\"prodDemand/data/test.csv\")\n",
    "testDf = pd.read_csv(obj[\"Body\"])\n"
   ]
  },
  {
   "cell_type": "code",
   "execution_count": 184,
   "id": "fc19b539-5de4-46cc-abc9-b603682ae14d",
   "metadata": {},
   "outputs": [],
   "source": [
    "testDf=testDf.iloc[:,0:4]"
   ]
  },
  {
   "cell_type": "code",
   "execution_count": null,
   "id": "e626f808",
   "metadata": {},
   "outputs": [],
   "source": [
    "# testDf.drop(columns=['2.0'],inplace=True)\n",
    "testDf"
   ]
  },
  {
   "cell_type": "code",
   "execution_count": 177,
   "id": "577fc859-1846-4654-915b-5841c8205020",
   "metadata": {},
   "outputs": [],
   "source": [
    "import pandas as pd\n",
    "import io"
   ]
  },
  {
   "cell_type": "code",
   "execution_count": 192,
   "id": "29a4c5d9-466c-4813-98b3-a71a4d1dde86",
   "metadata": {},
   "outputs": [],
   "source": [
    "csv_buffer = io.StringIO()\n",
    "testDf.to_csv(csv_buffer,header=None, index=None)\n",
    "text=csv_buffer.getvalue()\n",
    "testarr=text.split(\"\\r\\n\")"
   ]
  },
  {
   "cell_type": "code",
   "execution_count": 197,
   "id": "0a19cf7c",
   "metadata": {},
   "outputs": [
    {
     "data": {
      "text/plain": [
       "'suger,2021,2'"
      ]
     },
     "execution_count": 197,
     "metadata": {},
     "output_type": "execute_result"
    }
   ],
   "source": [
    "testarr[1]"
   ]
  },
  {
   "cell_type": "code",
   "execution_count": 204,
   "id": "427c9ae7-6aaf-4e41-8c1e-a53569d1e8fa",
   "metadata": {},
   "outputs": [
    {
     "name": "stdout",
     "output_type": "stream",
     "text": [
      "life boy soap,2021,12\n",
      "\n",
      "suger,2021,2\n",
      "\n",
      "santoor,2020,5\n",
      "\n",
      "freedom sunflower oil,2021,3\n",
      "\n",
      "colgate,2021,7\n",
      "\n",
      "freedom sunflower oil,2019,9\n",
      "\n",
      "life boy soap,2021,7\n",
      "\n",
      "santoor,2019,5\n",
      "\n",
      "colgate,2019,9\n",
      "\n",
      "suger,2020,12\n",
      "\n",
      "freedom sunflower oil,2019,2\n",
      "\n",
      "colgate,2019,6\n",
      "\n",
      "colgate,2021,2\n",
      "\n",
      "santoor,2019,4\n",
      "\n",
      "freedom sunflower oil,2021,5\n",
      "\n",
      "santoor,2020,8\n",
      "\n",
      "gemini  tea powder,2022,3\n",
      "\n",
      "gemini  tea powder,2022,4\n",
      "\n",
      "gemini  tea powder,2020,7\n",
      "\n",
      "freedom sunflower oil,2020,3\n",
      "\n",
      "colgate,2020,3\n",
      "\n",
      "life boy soap,2020,6\n",
      "\n",
      "colgate,2020,4\n",
      "\n",
      "colgate,2021,12\n",
      "\n",
      "gemini  tea powder,2019,1\n",
      "\n",
      "gemini  tea powder,2021,3\n",
      "\n",
      "gemini  tea powder,2021,5\n",
      "\n",
      "life boy soap,2020,5\n",
      "\n",
      "santoor,2020,4\n",
      "\n",
      "life boy soap,2019,8\n",
      "\n",
      "suger,2020,9\n",
      "\n",
      "gemini  tea powder,2021,1\n",
      "\n",
      "suger,2021,4\n",
      "\n",
      "gemini  tea powder,2019,7\n",
      "\n",
      "gemini  tea powder,2019,4\n",
      "\n",
      "gemini  tea powder,2020,9\n",
      "\n",
      "colgate,2019,8\n",
      "\n",
      "colgate,2020,5\n",
      "\n",
      "gemini  tea powder,2021,7\n",
      "\n"
     ]
    }
   ],
   "source": [
    "arrTest=[]\n",
    "for i in range(len(testarr)-1):    \n",
    "    print(testarr[i])\n",
    "    response = sgmkr_runtime.invoke_endpoint(\n",
    "        EndpointName=endpoint_name, ContentType=\"text/csv\", Body=testarr[i]\n",
    "    )\n",
    "    arrTest.append(response['Body'].read().decode())\n",
    "    print(response['Body'].read().decode())"
   ]
  },
  {
   "cell_type": "code",
   "execution_count": 206,
   "id": "c6a9c71a",
   "metadata": {},
   "outputs": [
    {
     "data": {
      "text/html": [
       "<pre style=\"white-space:pre;overflow-x:auto;line-height:normal;font-family:Menlo,'DejaVu Sans Mono',consolas,'Courier New',monospace\"><span style=\"color: #7fbfbf; text-decoration-color: #7fbfbf\">[01/29/25 19:55:26] </span><span style=\"color: #0069ff; text-decoration-color: #0069ff; font-weight: bold\">INFO    </span> Skipping checksum validation. Response did not contain one of the  <span style=\"color: #7f7f7f; text-decoration-color: #7f7f7f\">httpchecksum.py:481</span>\n",
       "<span style=\"color: #7fbfbf; text-decoration-color: #7fbfbf\">                    </span>         following algorithms: <span style=\"font-weight: bold\">[</span><span style=\"color: #008700; text-decoration-color: #008700\">'crc32'</span>, <span style=\"color: #008700; text-decoration-color: #008700\">'sha1'</span>, <span style=\"color: #008700; text-decoration-color: #008700\">'sha256'</span><span style=\"font-weight: bold\">]</span>.                 <span style=\"color: #7f7f7f; text-decoration-color: #7f7f7f\">                   </span>\n",
       "</pre>\n"
      ],
      "text/plain": [
       "\u001b[2;36m[01/29/25 19:55:26]\u001b[0m\u001b[2;36m \u001b[0m\u001b[1;38;2;0;105;255mINFO    \u001b[0m Skipping checksum validation. Response did not contain one of the  \u001b[2mhttpchecksum.py\u001b[0m\u001b[2m:\u001b[0m\u001b[2m481\u001b[0m\n",
       "\u001b[2;36m                    \u001b[0m         following algorithms: \u001b[1m[\u001b[0m\u001b[38;2;0;135;0m'crc32'\u001b[0m, \u001b[38;2;0;135;0m'sha1'\u001b[0m, \u001b[38;2;0;135;0m'sha256'\u001b[0m\u001b[1m]\u001b[0m.                 \u001b[2m                   \u001b[0m\n"
      ]
     },
     "metadata": {},
     "output_type": "display_data"
    }
   ],
   "source": [
    "obj = s3_client.get_object( Bucket=bucket_name, Key=\"prodDemand/data/test.csv\")\n",
    "testDf1 = pd.read_csv(obj[\"Body\"])"
   ]
  },
  {
   "cell_type": "code",
   "execution_count": 213,
   "id": "5b1049fc",
   "metadata": {},
   "outputs": [
    {
     "name": "stdout",
     "output_type": "stream",
     "text": [
      "97 100.0\n",
      "350 107.7142857\n",
      "98 96.66666667\n",
      "47 102.0\n",
      "98 99.0\n",
      "61 78.33333333\n",
      "98 100.0\n",
      "98 114.1176471\n",
      "62 56.0\n",
      "350 72.5\n",
      "37 96.0\n",
      "58 95.12195122\n",
      "98 95.55555556\n",
      "98 95.0\n",
      "51 94.0\n",
      "98 92.85714286\n",
      "43 108.8888889\n",
      "98 97.5\n",
      "98 110.0\n",
      "59 96.66666667\n",
      "47 98.33333333\n",
      "98 103.1578947\n",
      "95 86.0\n",
      "58 109.0\n",
      "18 77.77777778\n",
      "33 126.6666667\n",
      "41 90.0\n",
      "102 105.5555556\n",
      "150 105.3030303\n",
      "58 52.87356322\n",
      "250 95.0\n",
      "47 84.0\n",
      "250 89.5\n",
      "98 155.0\n",
      "13 135.7142857\n",
      "19 70.0\n",
      "51 151.6129032\n",
      "59 104.1666667\n",
      "41 86.66666667\n"
     ]
    }
   ],
   "source": [
    "for i in range(len(testarr)-1):\n",
    "    print(arrTest[i],testDf1['118.6666667'][i])"
   ]
  },
  {
   "cell_type": "code",
   "execution_count": 215,
   "id": "656e25da-02c4-49bf-a204-5b49d4d44ec4",
   "metadata": {},
   "outputs": [],
   "source": [
    "s3_client=boto3.client(\"s3\")"
   ]
  },
  {
   "cell_type": "code",
   "execution_count": 217,
   "id": "10ee9bb8",
   "metadata": {},
   "outputs": [],
   "source": [
    "sgmkr_clnt=boto3.client(\"sagemaker\")"
   ]
  },
  {
   "cell_type": "code",
   "execution_count": 218,
   "id": "edaa56ea-fa4c-4cbd-ad63-d1fcfadf91b8",
   "metadata": {},
   "outputs": [
    {
     "data": {
      "text/plain": [
       "{'ResponseMetadata': {'RequestId': 'e57d458f-7b46-48aa-8d26-38a97e6c914e',\n",
       "  'HTTPStatusCode': 200,\n",
       "  'HTTPHeaders': {'x-amzn-requestid': 'e57d458f-7b46-48aa-8d26-38a97e6c914e',\n",
       "   'content-type': 'application/x-amz-json-1.1',\n",
       "   'date': 'Wed, 29 Jan 2025 14:32:24 GMT',\n",
       "   'content-length': '0'},\n",
       "  'RetryAttempts': 0}}"
      ]
     },
     "execution_count": 218,
     "metadata": {},
     "output_type": "execute_result"
    }
   ],
   "source": [
    "sgmkr_clnt.delete_endpoint(EndpointName=endpoint_name)"
   ]
  }
 ],
 "metadata": {
  "kernelspec": {
   "display_name": "sage",
   "language": "python",
   "name": "python3"
  },
  "language_info": {
   "codemirror_mode": {
    "name": "ipython",
    "version": 3
   },
   "file_extension": ".py",
   "mimetype": "text/x-python",
   "name": "python",
   "nbconvert_exporter": "python",
   "pygments_lexer": "ipython3",
   "version": "3.10.16"
  }
 },
 "nbformat": 4,
 "nbformat_minor": 5
}
